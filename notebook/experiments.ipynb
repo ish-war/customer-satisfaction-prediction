{
 "cells": [
  {
   "cell_type": "code",
   "execution_count": 1,
   "metadata": {},
   "outputs": [
    {
     "name": "stdout",
     "output_type": "stream",
     "text": [
      "hi\n"
     ]
    }
   ],
   "source": [
    "print('hi')"
   ]
  },
  {
   "cell_type": "markdown",
   "metadata": {},
   "source": [
    "### Import Libraries"
   ]
  },
  {
   "cell_type": "code",
   "execution_count": 2,
   "metadata": {},
   "outputs": [],
   "source": [
    "import numpy as np\n",
    "import pandas as pd\n",
    "from numpy import loadtxt\n",
    "import seaborn as sns\n",
    "import matplotlib.pyplot as plt\n",
    "\n",
    "from sklearn.preprocessing import MinMaxScaler\n",
    "from sklearn.model_selection import train_test_split\n",
    "\n",
    "from tensorflow.keras.models import Sequential\n",
    "from tensorflow.keras.layers import Dense, Dropout\n",
    "from tensorflow.keras.utils import to_categorical"
   ]
  },
  {
   "cell_type": "markdown",
   "metadata": {},
   "source": [
    "### Dataset Overview"
   ]
  },
  {
   "cell_type": "markdown",
   "metadata": {},
   "source": [
    "The dataset encompasses customer satisfaction scores over a one-month period on an e-commerce platform named \"Shopzilla.\" It consists of the following features:\n",
    "\n",
    "* Unique id: Unique identifier for each record (integer).\n",
    "* Channel name: Name of the customer service channel (object/string).\n",
    "* Category: Category of the interaction (object/string).\n",
    "* Sub-category: Sub-category of the interaction (object/string).\n",
    "* Customer Remarks: Feedback provided by the customer (object/string).\n",
    "* Order id: Identifier for the order associated with the interaction (integer).\n",
    "* Order date time: Date and time of the order (datetime).\n",
    "* Issue reported at: Timestamp when the issue was reported (datetime).\n",
    "* Issue responded: Timestamp when the issue was responded to (datetime).\n",
    "* Survey response date: Date of the customer survey response (datetime).\n",
    "* Customer city: City of the customer (object/string).\n",
    "* Product category: Category of the product (object/string).\n",
    "* Item price: Price of the item (float).\n",
    "* Connected handling time: Time taken to handle the interaction (float).\n",
    "* Agent name: Name of the customer service agent (object/string).\n",
    "* Supervisor: Name of the supervisor (object/string).\n",
    "* Manager: Name of the manager (object/string).\n",
    "* Tenure Bucket: Bucket categorizing agent tenure (object/string).\n",
    "* Agent Shift: Shift timing of the agent (object/string).\n",
    "* CSAT Score: Customer Satisfaction (CSAT) score (integer).\n"
   ]
  },
  {
   "cell_type": "code",
   "execution_count": 3,
   "metadata": {},
   "outputs": [],
   "source": [
    "df = pd.read_csv('C:/Users/Ishwar/custom_support/data/csat-data.csv')"
   ]
  },
  {
   "cell_type": "code",
   "execution_count": 4,
   "metadata": {},
   "outputs": [
    {
     "data": {
      "text/html": [
       "<div>\n",
       "<style scoped>\n",
       "    .dataframe tbody tr th:only-of-type {\n",
       "        vertical-align: middle;\n",
       "    }\n",
       "\n",
       "    .dataframe tbody tr th {\n",
       "        vertical-align: top;\n",
       "    }\n",
       "\n",
       "    .dataframe thead th {\n",
       "        text-align: right;\n",
       "    }\n",
       "</style>\n",
       "<table border=\"1\" class=\"dataframe\">\n",
       "  <thead>\n",
       "    <tr style=\"text-align: right;\">\n",
       "      <th></th>\n",
       "      <th>Unique id</th>\n",
       "      <th>channel_name</th>\n",
       "      <th>category</th>\n",
       "      <th>Sub-category</th>\n",
       "      <th>Customer Remarks</th>\n",
       "      <th>Order_id</th>\n",
       "      <th>order_date_time</th>\n",
       "      <th>Issue_reported at</th>\n",
       "      <th>issue_responded</th>\n",
       "      <th>Survey_response_Date</th>\n",
       "      <th>Customer_City</th>\n",
       "      <th>Product_category</th>\n",
       "      <th>Item_price</th>\n",
       "      <th>connected_handling_time</th>\n",
       "      <th>Agent_name</th>\n",
       "      <th>Supervisor</th>\n",
       "      <th>Manager</th>\n",
       "      <th>Tenure Bucket</th>\n",
       "      <th>Agent Shift</th>\n",
       "      <th>CSAT Score</th>\n",
       "    </tr>\n",
       "  </thead>\n",
       "  <tbody>\n",
       "    <tr>\n",
       "      <th>0</th>\n",
       "      <td>7e9ae164-6a8b-4521-a2d4-58f7c9fff13f</td>\n",
       "      <td>Outcall</td>\n",
       "      <td>Product Queries</td>\n",
       "      <td>Life Insurance</td>\n",
       "      <td>NaN</td>\n",
       "      <td>c27c9bb4-fa36-4140-9f1f-21009254ffdb</td>\n",
       "      <td>NaN</td>\n",
       "      <td>01/08/2023 11:13</td>\n",
       "      <td>01/08/2023 11:47</td>\n",
       "      <td>01-Aug-23</td>\n",
       "      <td>NaN</td>\n",
       "      <td>NaN</td>\n",
       "      <td>NaN</td>\n",
       "      <td>NaN</td>\n",
       "      <td>Richard Buchanan</td>\n",
       "      <td>Mason Gupta</td>\n",
       "      <td>Jennifer Nguyen</td>\n",
       "      <td>On Job Training</td>\n",
       "      <td>Morning</td>\n",
       "      <td>5</td>\n",
       "    </tr>\n",
       "    <tr>\n",
       "      <th>1</th>\n",
       "      <td>b07ec1b0-f376-43b6-86df-ec03da3b2e16</td>\n",
       "      <td>Outcall</td>\n",
       "      <td>Product Queries</td>\n",
       "      <td>Product Specific Information</td>\n",
       "      <td>NaN</td>\n",
       "      <td>d406b0c7-ce17-4654-b9de-f08d421254bd</td>\n",
       "      <td>NaN</td>\n",
       "      <td>01/08/2023 12:52</td>\n",
       "      <td>01/08/2023 12:54</td>\n",
       "      <td>01-Aug-23</td>\n",
       "      <td>NaN</td>\n",
       "      <td>NaN</td>\n",
       "      <td>NaN</td>\n",
       "      <td>NaN</td>\n",
       "      <td>Vicki Collins</td>\n",
       "      <td>Dylan Kim</td>\n",
       "      <td>Michael Lee</td>\n",
       "      <td>&gt;90</td>\n",
       "      <td>Morning</td>\n",
       "      <td>5</td>\n",
       "    </tr>\n",
       "    <tr>\n",
       "      <th>2</th>\n",
       "      <td>200814dd-27c7-4149-ba2b-bd3af3092880</td>\n",
       "      <td>Inbound</td>\n",
       "      <td>Order Related</td>\n",
       "      <td>Installation/demo</td>\n",
       "      <td>NaN</td>\n",
       "      <td>c273368d-b961-44cb-beaf-62d6fd6c00d5</td>\n",
       "      <td>NaN</td>\n",
       "      <td>01/08/2023 20:16</td>\n",
       "      <td>01/08/2023 20:38</td>\n",
       "      <td>01-Aug-23</td>\n",
       "      <td>NaN</td>\n",
       "      <td>NaN</td>\n",
       "      <td>NaN</td>\n",
       "      <td>NaN</td>\n",
       "      <td>Duane Norman</td>\n",
       "      <td>Jackson Park</td>\n",
       "      <td>William Kim</td>\n",
       "      <td>On Job Training</td>\n",
       "      <td>Evening</td>\n",
       "      <td>5</td>\n",
       "    </tr>\n",
       "    <tr>\n",
       "      <th>3</th>\n",
       "      <td>eb0d3e53-c1ca-42d3-8486-e42c8d622135</td>\n",
       "      <td>Inbound</td>\n",
       "      <td>Returns</td>\n",
       "      <td>Reverse Pickup Enquiry</td>\n",
       "      <td>NaN</td>\n",
       "      <td>5aed0059-55a4-4ec6-bb54-97942092020a</td>\n",
       "      <td>NaN</td>\n",
       "      <td>01/08/2023 20:56</td>\n",
       "      <td>01/08/2023 21:16</td>\n",
       "      <td>01-Aug-23</td>\n",
       "      <td>NaN</td>\n",
       "      <td>NaN</td>\n",
       "      <td>NaN</td>\n",
       "      <td>NaN</td>\n",
       "      <td>Patrick Flores</td>\n",
       "      <td>Olivia Wang</td>\n",
       "      <td>John Smith</td>\n",
       "      <td>&gt;90</td>\n",
       "      <td>Evening</td>\n",
       "      <td>5</td>\n",
       "    </tr>\n",
       "    <tr>\n",
       "      <th>4</th>\n",
       "      <td>ba903143-1e54-406c-b969-46c52f92e5df</td>\n",
       "      <td>Inbound</td>\n",
       "      <td>Cancellation</td>\n",
       "      <td>Not Needed</td>\n",
       "      <td>NaN</td>\n",
       "      <td>e8bed5a9-6933-4aff-9dc6-ccefd7dcde59</td>\n",
       "      <td>NaN</td>\n",
       "      <td>01/08/2023 10:30</td>\n",
       "      <td>01/08/2023 10:32</td>\n",
       "      <td>01-Aug-23</td>\n",
       "      <td>NaN</td>\n",
       "      <td>NaN</td>\n",
       "      <td>NaN</td>\n",
       "      <td>NaN</td>\n",
       "      <td>Christopher Sanchez</td>\n",
       "      <td>Austin Johnson</td>\n",
       "      <td>Michael Lee</td>\n",
       "      <td>0-30</td>\n",
       "      <td>Morning</td>\n",
       "      <td>5</td>\n",
       "    </tr>\n",
       "  </tbody>\n",
       "</table>\n",
       "</div>"
      ],
      "text/plain": [
       "                              Unique id channel_name         category  \\\n",
       "0  7e9ae164-6a8b-4521-a2d4-58f7c9fff13f      Outcall  Product Queries   \n",
       "1  b07ec1b0-f376-43b6-86df-ec03da3b2e16      Outcall  Product Queries   \n",
       "2  200814dd-27c7-4149-ba2b-bd3af3092880      Inbound    Order Related   \n",
       "3  eb0d3e53-c1ca-42d3-8486-e42c8d622135      Inbound          Returns   \n",
       "4  ba903143-1e54-406c-b969-46c52f92e5df      Inbound     Cancellation   \n",
       "\n",
       "                   Sub-category Customer Remarks  \\\n",
       "0                Life Insurance              NaN   \n",
       "1  Product Specific Information              NaN   \n",
       "2             Installation/demo              NaN   \n",
       "3        Reverse Pickup Enquiry              NaN   \n",
       "4                    Not Needed              NaN   \n",
       "\n",
       "                               Order_id order_date_time Issue_reported at  \\\n",
       "0  c27c9bb4-fa36-4140-9f1f-21009254ffdb             NaN  01/08/2023 11:13   \n",
       "1  d406b0c7-ce17-4654-b9de-f08d421254bd             NaN  01/08/2023 12:52   \n",
       "2  c273368d-b961-44cb-beaf-62d6fd6c00d5             NaN  01/08/2023 20:16   \n",
       "3  5aed0059-55a4-4ec6-bb54-97942092020a             NaN  01/08/2023 20:56   \n",
       "4  e8bed5a9-6933-4aff-9dc6-ccefd7dcde59             NaN  01/08/2023 10:30   \n",
       "\n",
       "    issue_responded Survey_response_Date Customer_City Product_category  \\\n",
       "0  01/08/2023 11:47            01-Aug-23           NaN              NaN   \n",
       "1  01/08/2023 12:54            01-Aug-23           NaN              NaN   \n",
       "2  01/08/2023 20:38            01-Aug-23           NaN              NaN   \n",
       "3  01/08/2023 21:16            01-Aug-23           NaN              NaN   \n",
       "4  01/08/2023 10:32            01-Aug-23           NaN              NaN   \n",
       "\n",
       "   Item_price  connected_handling_time           Agent_name      Supervisor  \\\n",
       "0         NaN                      NaN     Richard Buchanan     Mason Gupta   \n",
       "1         NaN                      NaN        Vicki Collins       Dylan Kim   \n",
       "2         NaN                      NaN         Duane Norman    Jackson Park   \n",
       "3         NaN                      NaN       Patrick Flores     Olivia Wang   \n",
       "4         NaN                      NaN  Christopher Sanchez  Austin Johnson   \n",
       "\n",
       "           Manager    Tenure Bucket Agent Shift  CSAT Score  \n",
       "0  Jennifer Nguyen  On Job Training     Morning           5  \n",
       "1      Michael Lee              >90     Morning           5  \n",
       "2      William Kim  On Job Training     Evening           5  \n",
       "3       John Smith              >90     Evening           5  \n",
       "4      Michael Lee             0-30     Morning           5  "
      ]
     },
     "execution_count": 4,
     "metadata": {},
     "output_type": "execute_result"
    }
   ],
   "source": [
    "df.head()"
   ]
  },
  {
   "cell_type": "code",
   "execution_count": 5,
   "metadata": {},
   "outputs": [
    {
     "data": {
      "text/html": [
       "<div>\n",
       "<style scoped>\n",
       "    .dataframe tbody tr th:only-of-type {\n",
       "        vertical-align: middle;\n",
       "    }\n",
       "\n",
       "    .dataframe tbody tr th {\n",
       "        vertical-align: top;\n",
       "    }\n",
       "\n",
       "    .dataframe thead th {\n",
       "        text-align: right;\n",
       "    }\n",
       "</style>\n",
       "<table border=\"1\" class=\"dataframe\">\n",
       "  <thead>\n",
       "    <tr style=\"text-align: right;\">\n",
       "      <th></th>\n",
       "      <th>Unique id</th>\n",
       "      <th>channel_name</th>\n",
       "      <th>category</th>\n",
       "      <th>Sub-category</th>\n",
       "      <th>Customer Remarks</th>\n",
       "      <th>Order_id</th>\n",
       "      <th>order_date_time</th>\n",
       "      <th>Issue_reported at</th>\n",
       "      <th>issue_responded</th>\n",
       "      <th>Survey_response_Date</th>\n",
       "      <th>Customer_City</th>\n",
       "      <th>Product_category</th>\n",
       "      <th>Item_price</th>\n",
       "      <th>connected_handling_time</th>\n",
       "      <th>Agent_name</th>\n",
       "      <th>Supervisor</th>\n",
       "      <th>Manager</th>\n",
       "      <th>Tenure Bucket</th>\n",
       "      <th>Agent Shift</th>\n",
       "      <th>CSAT Score</th>\n",
       "    </tr>\n",
       "  </thead>\n",
       "  <tbody>\n",
       "    <tr>\n",
       "      <th>85902</th>\n",
       "      <td>505ea5e7-c475-4fac-ac36-1d19a4cb610f</td>\n",
       "      <td>Inbound</td>\n",
       "      <td>Refund Related</td>\n",
       "      <td>Refund Enquiry</td>\n",
       "      <td>NaN</td>\n",
       "      <td>1b5a2b9c-a95f-405f-a42e-5b1b693f3dc9</td>\n",
       "      <td>NaN</td>\n",
       "      <td>30/08/2023 23:20</td>\n",
       "      <td>31/08/2023 07:22</td>\n",
       "      <td>31-Aug-23</td>\n",
       "      <td>NaN</td>\n",
       "      <td>NaN</td>\n",
       "      <td>NaN</td>\n",
       "      <td>NaN</td>\n",
       "      <td>Brandon Leon</td>\n",
       "      <td>Ethan Tan</td>\n",
       "      <td>William Kim</td>\n",
       "      <td>On Job Training</td>\n",
       "      <td>Morning</td>\n",
       "      <td>4</td>\n",
       "    </tr>\n",
       "    <tr>\n",
       "      <th>85903</th>\n",
       "      <td>44b38d3f-1523-4182-aba2-72917586647c</td>\n",
       "      <td>Inbound</td>\n",
       "      <td>Order Related</td>\n",
       "      <td>Seller Cancelled Order</td>\n",
       "      <td>Supported team customer executive   good</td>\n",
       "      <td>d0e8a817-96d5-4ace-bb82-adec50398e22</td>\n",
       "      <td>NaN</td>\n",
       "      <td>31/08/2023 08:15</td>\n",
       "      <td>31/08/2023 08:17</td>\n",
       "      <td>31-Aug-23</td>\n",
       "      <td>NaN</td>\n",
       "      <td>NaN</td>\n",
       "      <td>NaN</td>\n",
       "      <td>NaN</td>\n",
       "      <td>Linda Foster</td>\n",
       "      <td>Noah Patel</td>\n",
       "      <td>Emily Chen</td>\n",
       "      <td>&gt;90</td>\n",
       "      <td>Morning</td>\n",
       "      <td>5</td>\n",
       "    </tr>\n",
       "    <tr>\n",
       "      <th>85904</th>\n",
       "      <td>723bce2c-496c-4aa8-a64b-ca17004528f0</td>\n",
       "      <td>Inbound</td>\n",
       "      <td>Order Related</td>\n",
       "      <td>Order status enquiry</td>\n",
       "      <td>need to improve with proper details.</td>\n",
       "      <td>bdefe788-ccec-4eda-8ca4-51045e68db8a</td>\n",
       "      <td>NaN</td>\n",
       "      <td>31/08/2023 18:57</td>\n",
       "      <td>31/08/2023 19:02</td>\n",
       "      <td>31-Aug-23</td>\n",
       "      <td>NaN</td>\n",
       "      <td>NaN</td>\n",
       "      <td>NaN</td>\n",
       "      <td>NaN</td>\n",
       "      <td>Kimberly Martinez</td>\n",
       "      <td>Aiden Patel</td>\n",
       "      <td>Olivia Tan</td>\n",
       "      <td>On Job Training</td>\n",
       "      <td>Evening</td>\n",
       "      <td>5</td>\n",
       "    </tr>\n",
       "    <tr>\n",
       "      <th>85905</th>\n",
       "      <td>707528ee-6873-4192-bfa9-a491f1c08ab5</td>\n",
       "      <td>Inbound</td>\n",
       "      <td>Feedback</td>\n",
       "      <td>UnProfessional Behaviour</td>\n",
       "      <td>NaN</td>\n",
       "      <td>a031ec28-0c5e-450e-95b2-592342c40bc4</td>\n",
       "      <td>NaN</td>\n",
       "      <td>31/08/2023 19:59</td>\n",
       "      <td>31/08/2023 20:00</td>\n",
       "      <td>31-Aug-23</td>\n",
       "      <td>NaN</td>\n",
       "      <td>NaN</td>\n",
       "      <td>NaN</td>\n",
       "      <td>NaN</td>\n",
       "      <td>Daniel Martin</td>\n",
       "      <td>Olivia Suzuki</td>\n",
       "      <td>Olivia Tan</td>\n",
       "      <td>&gt;90</td>\n",
       "      <td>Morning</td>\n",
       "      <td>4</td>\n",
       "    </tr>\n",
       "    <tr>\n",
       "      <th>85906</th>\n",
       "      <td>07c7a878-0d5a-42e0-97ef-de59abec0238</td>\n",
       "      <td>Inbound</td>\n",
       "      <td>Returns</td>\n",
       "      <td>Reverse Pickup Enquiry</td>\n",
       "      <td>NaN</td>\n",
       "      <td>3230db30-f8da-4c44-8636-ec76d1d3d4f3</td>\n",
       "      <td>NaN</td>\n",
       "      <td>31/08/2023 23:36</td>\n",
       "      <td>31/08/2023 23:37</td>\n",
       "      <td>31-Aug-23</td>\n",
       "      <td>NaN</td>\n",
       "      <td>NaN</td>\n",
       "      <td>NaN</td>\n",
       "      <td>NaN</td>\n",
       "      <td>Elizabeth Guerra</td>\n",
       "      <td>Nathan Patel</td>\n",
       "      <td>Jennifer Nguyen</td>\n",
       "      <td>On Job Training</td>\n",
       "      <td>Evening</td>\n",
       "      <td>5</td>\n",
       "    </tr>\n",
       "  </tbody>\n",
       "</table>\n",
       "</div>"
      ],
      "text/plain": [
       "                                  Unique id channel_name        category  \\\n",
       "85902  505ea5e7-c475-4fac-ac36-1d19a4cb610f      Inbound  Refund Related   \n",
       "85903  44b38d3f-1523-4182-aba2-72917586647c      Inbound   Order Related   \n",
       "85904  723bce2c-496c-4aa8-a64b-ca17004528f0      Inbound   Order Related   \n",
       "85905  707528ee-6873-4192-bfa9-a491f1c08ab5      Inbound        Feedback   \n",
       "85906  07c7a878-0d5a-42e0-97ef-de59abec0238      Inbound         Returns   \n",
       "\n",
       "                   Sub-category                          Customer Remarks  \\\n",
       "85902            Refund Enquiry                                       NaN   \n",
       "85903    Seller Cancelled Order  Supported team customer executive   good   \n",
       "85904      Order status enquiry      need to improve with proper details.   \n",
       "85905  UnProfessional Behaviour                                       NaN   \n",
       "85906    Reverse Pickup Enquiry                                       NaN   \n",
       "\n",
       "                                   Order_id order_date_time Issue_reported at  \\\n",
       "85902  1b5a2b9c-a95f-405f-a42e-5b1b693f3dc9             NaN  30/08/2023 23:20   \n",
       "85903  d0e8a817-96d5-4ace-bb82-adec50398e22             NaN  31/08/2023 08:15   \n",
       "85904  bdefe788-ccec-4eda-8ca4-51045e68db8a             NaN  31/08/2023 18:57   \n",
       "85905  a031ec28-0c5e-450e-95b2-592342c40bc4             NaN  31/08/2023 19:59   \n",
       "85906  3230db30-f8da-4c44-8636-ec76d1d3d4f3             NaN  31/08/2023 23:36   \n",
       "\n",
       "        issue_responded Survey_response_Date Customer_City Product_category  \\\n",
       "85902  31/08/2023 07:22            31-Aug-23           NaN              NaN   \n",
       "85903  31/08/2023 08:17            31-Aug-23           NaN              NaN   \n",
       "85904  31/08/2023 19:02            31-Aug-23           NaN              NaN   \n",
       "85905  31/08/2023 20:00            31-Aug-23           NaN              NaN   \n",
       "85906  31/08/2023 23:37            31-Aug-23           NaN              NaN   \n",
       "\n",
       "       Item_price  connected_handling_time         Agent_name     Supervisor  \\\n",
       "85902         NaN                      NaN       Brandon Leon      Ethan Tan   \n",
       "85903         NaN                      NaN       Linda Foster     Noah Patel   \n",
       "85904         NaN                      NaN  Kimberly Martinez    Aiden Patel   \n",
       "85905         NaN                      NaN      Daniel Martin  Olivia Suzuki   \n",
       "85906         NaN                      NaN   Elizabeth Guerra   Nathan Patel   \n",
       "\n",
       "               Manager    Tenure Bucket Agent Shift  CSAT Score  \n",
       "85902      William Kim  On Job Training     Morning           4  \n",
       "85903       Emily Chen              >90     Morning           5  \n",
       "85904       Olivia Tan  On Job Training     Evening           5  \n",
       "85905       Olivia Tan              >90     Morning           4  \n",
       "85906  Jennifer Nguyen  On Job Training     Evening           5  "
      ]
     },
     "execution_count": 5,
     "metadata": {},
     "output_type": "execute_result"
    }
   ],
   "source": [
    "df.tail()"
   ]
  },
  {
   "cell_type": "code",
   "execution_count": 6,
   "metadata": {},
   "outputs": [
    {
     "data": {
      "text/plain": [
       "(85907, 20)"
      ]
     },
     "execution_count": 6,
     "metadata": {},
     "output_type": "execute_result"
    }
   ],
   "source": [
    "# shape of the dataset\n",
    "df.shape"
   ]
  },
  {
   "cell_type": "code",
   "execution_count": 7,
   "metadata": {},
   "outputs": [
    {
     "data": {
      "text/plain": [
       "Index(['Unique id', 'channel_name', 'category', 'Sub-category',\n",
       "       'Customer Remarks', 'Order_id', 'order_date_time', 'Issue_reported at',\n",
       "       'issue_responded', 'Survey_response_Date', 'Customer_City',\n",
       "       'Product_category', 'Item_price', 'connected_handling_time',\n",
       "       'Agent_name', 'Supervisor', 'Manager', 'Tenure Bucket', 'Agent Shift',\n",
       "       'CSAT Score'],\n",
       "      dtype='object')"
      ]
     },
     "execution_count": 7,
     "metadata": {},
     "output_type": "execute_result"
    }
   ],
   "source": [
    "# columns of dataset\n",
    "df.columns"
   ]
  },
  {
   "cell_type": "markdown",
   "metadata": {},
   "source": [
    "## Data Preprocessing"
   ]
  },
  {
   "cell_type": "markdown",
   "metadata": {},
   "source": [
    "### Check for null values in dataset"
   ]
  },
  {
   "cell_type": "code",
   "execution_count": 8,
   "metadata": {},
   "outputs": [
    {
     "data": {
      "text/plain": [
       "connected_handling_time    85665\n",
       "Customer_City              68828\n",
       "Product_category           68711\n",
       "Item_price                 68701\n",
       "order_date_time            68693\n",
       "Customer Remarks           57165\n",
       "Order_id                   18232\n",
       "Unique id                      0\n",
       "Sub-category                   0\n",
       "category                       0\n",
       "channel_name                   0\n",
       "Issue_reported at              0\n",
       "issue_responded                0\n",
       "Survey_response_Date           0\n",
       "Agent_name                     0\n",
       "Supervisor                     0\n",
       "Manager                        0\n",
       "Tenure Bucket                  0\n",
       "Agent Shift                    0\n",
       "CSAT Score                     0\n",
       "dtype: int64"
      ]
     },
     "execution_count": 8,
     "metadata": {},
     "output_type": "execute_result"
    }
   ],
   "source": [
    "null_values = df.isna().sum().sort_values(ascending=False)\n",
    "null_values"
   ]
  },
  {
   "cell_type": "code",
   "execution_count": 9,
   "metadata": {},
   "outputs": [
    {
     "data": {
      "text/plain": [
       "[]"
      ]
     },
     "execution_count": 9,
     "metadata": {},
     "output_type": "execute_result"
    },
    {
     "data": {
      "image/png": "[encoded data removed]",
      "text/plain": [
       "<Figure size 1000x800 with 1 Axes>"
      ]
     },
     "metadata": {},
     "output_type": "display_data"
    }
   ],
   "source": [
    "# visualize the null values of top 9 \n",
    "\n",
    "plt.figure(figsize=(10,8))\n",
    "sns.barplot(null_values[:9])\n",
    "plt.xticks(rotation= 'vertical')\n",
    "plt.title(\"Missing Values Barplot\")\n",
    "plt.xlabel(\"Null Values\")\n",
    "plt.ylabel(\"Count of values\")\n",
    "plt.plot()"
   ]
  },
  {
   "cell_type": "markdown",
   "metadata": {},
   "source": [
    "### Drop columns with >70% missing values"
   ]
  },
  {
   "cell_type": "code",
   "execution_count": 10,
   "metadata": {},
   "outputs": [
    {
     "name": "stdout",
     "output_type": "stream",
     "text": [
      "Remaining columns: Index(['Unique id', 'channel_name', 'category', 'Sub-category',\n",
      "       'Customer Remarks', 'Order_id', 'Issue_reported at', 'issue_responded',\n",
      "       'Survey_response_Date', 'Agent_name', 'Supervisor', 'Manager',\n",
      "       'Tenure Bucket', 'Agent Shift', 'CSAT Score'],\n",
      "      dtype='object')\n"
     ]
    }
   ],
   "source": [
    "# connected_handling_time - 99.72% missing\n",
    "# Customer_City - 80.12% missing\n",
    "# Product_category - 79.96% missing\n",
    "# Item_price - 79.95% missing\n",
    "# order_date_time - 79.94% missing\n",
    "\n",
    "cols_to_drop = ['connected_handling_time', 'Customer_City', 'Product_category', 'Item_price', 'order_date_time']\n",
    "df = df.drop(columns=cols_to_drop)\n",
    "print(\"Remaining columns:\", df.columns)"
   ]
  },
  {
   "cell_type": "markdown",
   "metadata": {},
   "source": [
    "### Impute columns with <70% missing values"
   ]
  },
  {
   "cell_type": "code",
   "execution_count": 11,
   "metadata": {},
   "outputs": [],
   "source": [
    "# Customer Remarks: 66.54%\n",
    "# Order_id: 21.22%\n",
    "\n",
    "df['Customer Remarks'] = df['Customer Remarks'].fillna('No Remarks')"
   ]
  },
  {
   "cell_type": "code",
   "execution_count": 12,
   "metadata": {},
   "outputs": [],
   "source": [
    "# since order_id is a unique identifier column, it's better to drop those rows rather than imputing the column\n",
    "df = df.dropna(subset=['Order_id'])"
   ]
  },
  {
   "cell_type": "code",
   "execution_count": 13,
   "metadata": {},
   "outputs": [
    {
     "data": {
      "text/plain": [
       "Unique id               0\n",
       "channel_name            0\n",
       "category                0\n",
       "Sub-category            0\n",
       "Customer Remarks        0\n",
       "Order_id                0\n",
       "Issue_reported at       0\n",
       "issue_responded         0\n",
       "Survey_response_Date    0\n",
       "Agent_name              0\n",
       "Supervisor              0\n",
       "Manager                 0\n",
       "Tenure Bucket           0\n",
       "Agent Shift             0\n",
       "CSAT Score              0\n",
       "dtype: int64"
      ]
     },
     "execution_count": 13,
     "metadata": {},
     "output_type": "execute_result"
    }
   ],
   "source": [
    "df.isna().sum()"
   ]
  },
  {
   "cell_type": "markdown",
   "metadata": {},
   "source": [
    "### Unique values and their count"
   ]
  },
  {
   "cell_type": "code",
   "execution_count": 14,
   "metadata": {},
   "outputs": [
    {
     "name": "stdout",
     "output_type": "stream",
     "text": [
      "Unique id\n",
      "['7e9ae164-6a8b-4521-a2d4-58f7c9fff13f'\n",
      " 'b07ec1b0-f376-43b6-86df-ec03da3b2e16'\n",
      " '200814dd-27c7-4149-ba2b-bd3af3092880' ...\n",
      " '723bce2c-496c-4aa8-a64b-ca17004528f0'\n",
      " '707528ee-6873-4192-bfa9-a491f1c08ab5'\n",
      " '07c7a878-0d5a-42e0-97ef-de59abec0238']\n",
      "channel_name\n",
      "['Outcall' 'Inbound' 'Email']\n",
      "category\n",
      "['Product Queries' 'Order Related' 'Returns' 'Cancellation'\n",
      " 'Shopzilla Related' 'Payments related' 'Refund Related' 'Feedback'\n",
      " 'Offers & Cashback' 'Onboarding related' 'Others' 'App/website']\n",
      "Sub-category\n",
      "['Life Insurance' 'Product Specific Information' 'Installation/demo'\n",
      " 'Reverse Pickup Enquiry' 'Not Needed' 'Fraudulent User'\n",
      " 'Exchange / Replacement' 'Missing' 'General Enquiry' 'Return request'\n",
      " 'Delayed' 'Service Centres Related' 'Payment related Queries'\n",
      " 'Order status enquiry' 'Return cancellation' 'Unable to track'\n",
      " 'Seller Cancelled Order' 'Wrong' 'Invoice request' 'Priority delivery'\n",
      " 'Refund Related Issues' 'Signup Issues' 'Online Payment Issues'\n",
      " 'Technician Visit' 'UnProfessional Behaviour' 'Damaged'\n",
      " 'Product related Issues' 'Refund Enquiry'\n",
      " 'Customer Requested Modifications' 'Instant discount' 'Card/EMI'\n",
      " 'Shopzila Premium Related' 'Account updation' 'COD Refund Details'\n",
      " 'Seller onboarding' 'Order Verification' 'Other Cashback'\n",
      " 'Call disconnected' 'Wallet related' 'PayLater related'\n",
      " 'Call back request' 'Other Account Related Issues' 'App/website Related'\n",
      " 'Affiliate Offers' 'Issues with Shopzilla App' 'Billing Related'\n",
      " 'Warranty related' 'Others' 'e-Gift Voucher' 'Shopzilla Rewards'\n",
      " 'Non Order related' 'Unable to Login' 'Service Center - Service Denial'\n",
      " 'Payment pending' 'Self-Help' 'Commission related' 'Policy Related']\n",
      "Customer Remarks\n",
      "['No Remarks' 'Very good'\n",
      " \"Shopzilla app and it's all coustomer care services is very good service provided all time\"\n",
      " ...\n",
      " \"Trough the Shopzilla App Refunding Policy should be easier and stepwise successful so that a customer need not communicate with the customer care; 'Return and Refund' must be 100% feasible through the App.\"\n",
      " 'Supported team customer executive   good'\n",
      " 'need to improve with proper details.']\n",
      "Order_id\n",
      "['c27c9bb4-fa36-4140-9f1f-21009254ffdb'\n",
      " 'd406b0c7-ce17-4654-b9de-f08d421254bd'\n",
      " 'c273368d-b961-44cb-beaf-62d6fd6c00d5' ...\n",
      " 'bdefe788-ccec-4eda-8ca4-51045e68db8a'\n",
      " 'a031ec28-0c5e-450e-95b2-592342c40bc4'\n",
      " '3230db30-f8da-4c44-8636-ec76d1d3d4f3']\n",
      "Issue_reported at\n",
      "['01/08/2023 11:13' '01/08/2023 12:52' '01/08/2023 20:16' ...\n",
      " '31/08/2023 09:59' '31/08/2023 23:34' '31/08/2023 23:36']\n",
      "issue_responded\n",
      "['01/08/2023 11:47' '01/08/2023 12:54' '01/08/2023 20:38' ...\n",
      " '31/08/2023 16:20' '31/08/2023 07:45' '31/08/2023 23:52']\n",
      "Survey_response_Date\n",
      "['01-Aug-23' '02-Aug-23' '03-Aug-23' '04-Aug-23' '05-Aug-23' '06-Aug-23'\n",
      " '07-Aug-23' '08-Aug-23' '09-Aug-23' '10-Aug-23' '12-Aug-23' '11-Aug-23'\n",
      " '13-Aug-23' '14-Aug-23' '15-Aug-23' '16-Aug-23' '17-Aug-23' '18-Aug-23'\n",
      " '19-Aug-23' '20-Aug-23' '21-Aug-23' '22-Aug-23' '23-Aug-23' '24-Aug-23'\n",
      " '25-Aug-23' '26-Aug-23' '27-Aug-23' '28-Aug-23' '29-Aug-23' '30-Aug-23'\n",
      " '31-Aug-23']\n",
      "Agent_name\n",
      "['Richard Buchanan' 'Vicki Collins' 'Duane Norman' ... 'Madison Flores'\n",
      " 'Brenda Gillespie' 'Kristina Gutierrez']\n",
      "Supervisor\n",
      "['Mason Gupta' 'Dylan Kim' 'Jackson Park' 'Olivia Wang' 'Austin Johnson'\n",
      " 'Emma Park' 'Aiden Patel' 'Evelyn Kimura' 'Nathan Patel' 'Amelia Tanaka'\n",
      " 'Harper Wong' 'Zoe Yamamoto' 'Scarlett Chen' 'Sophia Sato' 'Wyatt Kim'\n",
      " 'Logan Lee' 'Mia Patel' 'William Park' 'Emily Yamashita' 'Madison Kim'\n",
      " 'Noah Patel' 'Oliver Nguyen' 'Elijah Yamaguchi' 'Layla Taniguchi'\n",
      " 'Isabella Wong' 'Carter Park' 'Jacob Sato' 'Ethan Tan' 'Mia Yamamoto'\n",
      " 'Brayden Wong' 'Ava Wong' 'Landon Tanaka' 'Lucas Singh'\n",
      " 'Charlotte Suzuki' 'Abigail Suzuki' 'Ethan Nakamura' 'Olivia Suzuki'\n",
      " 'Alexander Tanaka' 'Lily Chen' 'Sophia Chen']\n",
      "Manager\n",
      "['Jennifer Nguyen' 'Michael Lee' 'William Kim' 'John Smith' 'Olivia Tan'\n",
      " 'Emily Chen']\n",
      "Tenure Bucket\n",
      "['On Job Training' '>90' '0-30' '31-60' '61-90']\n",
      "Agent Shift\n",
      "['Morning' 'Evening' 'Split' 'Afternoon' 'Night']\n",
      "CSAT Score\n",
      "[5 4 1 3 2]\n"
     ]
    }
   ],
   "source": [
    "for column in df :\n",
    "  print(column)\n",
    "  print(df[column].unique())"
   ]
  },
  {
   "cell_type": "code",
   "execution_count": 15,
   "metadata": {},
   "outputs": [
    {
     "name": "stdout",
     "output_type": "stream",
     "text": [
      "Unique id - 67675\n",
      "channel_name - 3\n",
      "category - 12\n",
      "Sub-category - 57\n",
      "Customer Remarks - 14500\n",
      "Order_id - 67675\n",
      "Issue_reported at - 26535\n",
      "issue_responded - 25506\n",
      "Survey_response_Date - 31\n",
      "Agent_name - 1371\n",
      "Supervisor - 40\n",
      "Manager - 6\n",
      "Tenure Bucket - 5\n",
      "Agent Shift - 5\n",
      "CSAT Score - 5\n"
     ]
    }
   ],
   "source": [
    "for column in df :\n",
    "  print(column ,'-', df[column].nunique())"
   ]
  },
  {
   "cell_type": "code",
   "execution_count": 16,
   "metadata": {},
   "outputs": [
    {
     "data": {
      "text/plain": [
       "np.int64(0)"
      ]
     },
     "execution_count": 16,
     "metadata": {},
     "output_type": "execute_result"
    }
   ],
   "source": [
    "df.duplicated().sum()"
   ]
  },
  {
   "cell_type": "markdown",
   "metadata": {},
   "source": [
    "### Dataset Information"
   ]
  },
  {
   "cell_type": "code",
   "execution_count": 17,
   "metadata": {},
   "outputs": [
    {
     "name": "stdout",
     "output_type": "stream",
     "text": [
      "<class 'pandas.core.frame.DataFrame'>\n",
      "Index: 67675 entries, 0 to 85906\n",
      "Data columns (total 15 columns):\n",
      " #   Column                Non-Null Count  Dtype \n",
      "---  ------                --------------  ----- \n",
      " 0   Unique id             67675 non-null  object\n",
      " 1   channel_name          67675 non-null  object\n",
      " 2   category              67675 non-null  object\n",
      " 3   Sub-category          67675 non-null  object\n",
      " 4   Customer Remarks      67675 non-null  object\n",
      " 5   Order_id              67675 non-null  object\n",
      " 6   Issue_reported at     67675 non-null  object\n",
      " 7   issue_responded       67675 non-null  object\n",
      " 8   Survey_response_Date  67675 non-null  object\n",
      " 9   Agent_name            67675 non-null  object\n",
      " 10  Supervisor            67675 non-null  object\n",
      " 11  Manager               67675 non-null  object\n",
      " 12  Tenure Bucket         67675 non-null  object\n",
      " 13  Agent Shift           67675 non-null  object\n",
      " 14  CSAT Score            67675 non-null  int64 \n",
      "dtypes: int64(1), object(14)\n",
      "memory usage: 8.3+ MB\n"
     ]
    }
   ],
   "source": [
    "df.info()"
   ]
  },
  {
   "cell_type": "markdown",
   "metadata": {},
   "source": [
    "### change datatype of datetime columns"
   ]
  },
  {
   "cell_type": "code",
   "execution_count": 18,
   "metadata": {},
   "outputs": [],
   "source": [
    "# changing datatype of datetime columns\n",
    "\n",
    "datetime_col = ['Issue_reported at', 'issue_responded', 'Survey_response_Date']\n",
    "\n",
    "for col in datetime_col :\n",
    "  df[col] = pd.to_datetime(df[col], format='mixed', dayfirst=True)"
   ]
  },
  {
   "cell_type": "code",
   "execution_count": 19,
   "metadata": {},
   "outputs": [
    {
     "data": {
      "text/html": [
       "<div>\n",
       "<style scoped>\n",
       "    .dataframe tbody tr th:only-of-type {\n",
       "        vertical-align: middle;\n",
       "    }\n",
       "\n",
       "    .dataframe tbody tr th {\n",
       "        vertical-align: top;\n",
       "    }\n",
       "\n",
       "    .dataframe thead th {\n",
       "        text-align: right;\n",
       "    }\n",
       "</style>\n",
       "<table border=\"1\" class=\"dataframe\">\n",
       "  <thead>\n",
       "    <tr style=\"text-align: right;\">\n",
       "      <th></th>\n",
       "      <th>Issue_reported at</th>\n",
       "      <th>issue_responded</th>\n",
       "      <th>Survey_response_Date</th>\n",
       "      <th>CSAT Score</th>\n",
       "    </tr>\n",
       "  </thead>\n",
       "  <tbody>\n",
       "    <tr>\n",
       "      <th>count</th>\n",
       "      <td>67675</td>\n",
       "      <td>67675</td>\n",
       "      <td>67675</td>\n",
       "      <td>67675.000000</td>\n",
       "    </tr>\n",
       "    <tr>\n",
       "      <th>mean</th>\n",
       "      <td>2023-08-17 17:23:08.479350016</td>\n",
       "      <td>2023-08-17 19:50:48.267750144</td>\n",
       "      <td>2023-08-17 05:35:10.421869056</td>\n",
       "      <td>4.225445</td>\n",
       "    </tr>\n",
       "    <tr>\n",
       "      <th>min</th>\n",
       "      <td>2023-07-28 20:42:00</td>\n",
       "      <td>2023-08-01 00:00:00</td>\n",
       "      <td>2023-08-01 00:00:00</td>\n",
       "      <td>1.000000</td>\n",
       "    </tr>\n",
       "    <tr>\n",
       "      <th>25%</th>\n",
       "      <td>2023-08-09 12:32:00</td>\n",
       "      <td>2023-08-09 14:42:00</td>\n",
       "      <td>2023-08-09 00:00:00</td>\n",
       "      <td>4.000000</td>\n",
       "    </tr>\n",
       "    <tr>\n",
       "      <th>50%</th>\n",
       "      <td>2023-08-18 20:44:00</td>\n",
       "      <td>2023-08-19 07:01:00</td>\n",
       "      <td>2023-08-19 00:00:00</td>\n",
       "      <td>5.000000</td>\n",
       "    </tr>\n",
       "    <tr>\n",
       "      <th>75%</th>\n",
       "      <td>2023-08-25 12:08:00</td>\n",
       "      <td>2023-08-25 14:00:30</td>\n",
       "      <td>2023-08-25 00:00:00</td>\n",
       "      <td>5.000000</td>\n",
       "    </tr>\n",
       "    <tr>\n",
       "      <th>max</th>\n",
       "      <td>2023-08-31 23:58:00</td>\n",
       "      <td>2023-08-31 23:59:00</td>\n",
       "      <td>2023-08-31 00:00:00</td>\n",
       "      <td>5.000000</td>\n",
       "    </tr>\n",
       "    <tr>\n",
       "      <th>std</th>\n",
       "      <td>NaN</td>\n",
       "      <td>NaN</td>\n",
       "      <td>NaN</td>\n",
       "      <td>1.392488</td>\n",
       "    </tr>\n",
       "  </tbody>\n",
       "</table>\n",
       "</div>"
      ],
      "text/plain": [
       "                   Issue_reported at                issue_responded  \\\n",
       "count                          67675                          67675   \n",
       "mean   2023-08-17 17:23:08.479350016  2023-08-17 19:50:48.267750144   \n",
       "min              2023-07-28 20:42:00            2023-08-01 00:00:00   \n",
       "25%              2023-08-09 12:32:00            2023-08-09 14:42:00   \n",
       "50%              2023-08-18 20:44:00            2023-08-19 07:01:00   \n",
       "75%              2023-08-25 12:08:00            2023-08-25 14:00:30   \n",
       "max              2023-08-31 23:58:00            2023-08-31 23:59:00   \n",
       "std                              NaN                            NaN   \n",
       "\n",
       "                Survey_response_Date    CSAT Score  \n",
       "count                          67675  67675.000000  \n",
       "mean   2023-08-17 05:35:10.421869056      4.225445  \n",
       "min              2023-08-01 00:00:00      1.000000  \n",
       "25%              2023-08-09 00:00:00      4.000000  \n",
       "50%              2023-08-19 00:00:00      5.000000  \n",
       "75%              2023-08-25 00:00:00      5.000000  \n",
       "max              2023-08-31 00:00:00      5.000000  \n",
       "std                              NaN      1.392488  "
      ]
     },
     "execution_count": 19,
     "metadata": {},
     "output_type": "execute_result"
    }
   ],
   "source": [
    "df.describe()"
   ]
  },
  {
   "cell_type": "code",
   "execution_count": 20,
   "metadata": {},
   "outputs": [
    {
     "data": {
      "text/html": [
       "<div>\n",
       "<style scoped>\n",
       "    .dataframe tbody tr th:only-of-type {\n",
       "        vertical-align: middle;\n",
       "    }\n",
       "\n",
       "    .dataframe tbody tr th {\n",
       "        vertical-align: top;\n",
       "    }\n",
       "\n",
       "    .dataframe thead th {\n",
       "        text-align: right;\n",
       "    }\n",
       "</style>\n",
       "<table border=\"1\" class=\"dataframe\">\n",
       "  <thead>\n",
       "    <tr style=\"text-align: right;\">\n",
       "      <th></th>\n",
       "      <th>Unique id</th>\n",
       "      <th>channel_name</th>\n",
       "      <th>category</th>\n",
       "      <th>Sub-category</th>\n",
       "      <th>Customer Remarks</th>\n",
       "      <th>Order_id</th>\n",
       "      <th>Agent_name</th>\n",
       "      <th>Supervisor</th>\n",
       "      <th>Manager</th>\n",
       "      <th>Tenure Bucket</th>\n",
       "      <th>Agent Shift</th>\n",
       "    </tr>\n",
       "  </thead>\n",
       "  <tbody>\n",
       "    <tr>\n",
       "      <th>count</th>\n",
       "      <td>67675</td>\n",
       "      <td>67675</td>\n",
       "      <td>67675</td>\n",
       "      <td>67675</td>\n",
       "      <td>67675</td>\n",
       "      <td>67675</td>\n",
       "      <td>67675</td>\n",
       "      <td>67675</td>\n",
       "      <td>67675</td>\n",
       "      <td>67675</td>\n",
       "      <td>67675</td>\n",
       "    </tr>\n",
       "    <tr>\n",
       "      <th>unique</th>\n",
       "      <td>67675</td>\n",
       "      <td>3</td>\n",
       "      <td>12</td>\n",
       "      <td>57</td>\n",
       "      <td>14500</td>\n",
       "      <td>67675</td>\n",
       "      <td>1371</td>\n",
       "      <td>40</td>\n",
       "      <td>6</td>\n",
       "      <td>5</td>\n",
       "      <td>5</td>\n",
       "    </tr>\n",
       "    <tr>\n",
       "      <th>top</th>\n",
       "      <td>07c7a878-0d5a-42e0-97ef-de59abec0238</td>\n",
       "      <td>Inbound</td>\n",
       "      <td>Returns</td>\n",
       "      <td>Reverse Pickup Enquiry</td>\n",
       "      <td>No Remarks</td>\n",
       "      <td>3230db30-f8da-4c44-8636-ec76d1d3d4f3</td>\n",
       "      <td>Wendy Taylor</td>\n",
       "      <td>Carter Park</td>\n",
       "      <td>John Smith</td>\n",
       "      <td>&gt;90</td>\n",
       "      <td>Morning</td>\n",
       "    </tr>\n",
       "    <tr>\n",
       "      <th>freq</th>\n",
       "      <td>1</td>\n",
       "      <td>53278</td>\n",
       "      <td>34501</td>\n",
       "      <td>17433</td>\n",
       "      <td>45036</td>\n",
       "      <td>1</td>\n",
       "      <td>346</td>\n",
       "      <td>3448</td>\n",
       "      <td>19516</td>\n",
       "      <td>23877</td>\n",
       "      <td>32868</td>\n",
       "    </tr>\n",
       "  </tbody>\n",
       "</table>\n",
       "</div>"
      ],
      "text/plain": [
       "                                   Unique id channel_name category  \\\n",
       "count                                  67675        67675    67675   \n",
       "unique                                 67675            3       12   \n",
       "top     07c7a878-0d5a-42e0-97ef-de59abec0238      Inbound  Returns   \n",
       "freq                                       1        53278    34501   \n",
       "\n",
       "                  Sub-category Customer Remarks  \\\n",
       "count                    67675            67675   \n",
       "unique                      57            14500   \n",
       "top     Reverse Pickup Enquiry       No Remarks   \n",
       "freq                     17433            45036   \n",
       "\n",
       "                                    Order_id    Agent_name   Supervisor  \\\n",
       "count                                  67675         67675        67675   \n",
       "unique                                 67675          1371           40   \n",
       "top     3230db30-f8da-4c44-8636-ec76d1d3d4f3  Wendy Taylor  Carter Park   \n",
       "freq                                       1           346         3448   \n",
       "\n",
       "           Manager Tenure Bucket Agent Shift  \n",
       "count        67675         67675       67675  \n",
       "unique           6             5           5  \n",
       "top     John Smith           >90     Morning  \n",
       "freq         19516         23877       32868  "
      ]
     },
     "execution_count": 20,
     "metadata": {},
     "output_type": "execute_result"
    }
   ],
   "source": [
    "df.describe(include=[\"object\"])"
   ]
  },
  {
   "cell_type": "markdown",
   "metadata": {},
   "source": [
    "## EDA - Exploratory Data Analysis"
   ]
  },
  {
   "cell_type": "markdown",
   "metadata": {},
   "source": [
    "1. What is the distribution of CSAT scores?\n",
    "\n",
    "Understanding the spread of CSAT scores helps identify customer satisfaction trends.\n",
    "\n"
   ]
  },
  {
   "cell_type": "code",
   "execution_count": 21,
   "metadata": {},
   "outputs": [
    {
     "data": {
      "text/plain": [
       "CSAT Score\n",
       "1     9090\n",
       "2     1034\n",
       "3     2060\n",
       "4     8836\n",
       "5    46655\n",
       "Name: count, dtype: int64"
      ]
     },
     "execution_count": 21,
     "metadata": {},
     "output_type": "execute_result"
    }
   ],
   "source": [
    "# customer satisfaction score for each categories\n",
    "df['CSAT Score'].value_counts().sort_index()"
   ]
  },
  {
   "cell_type": "code",
   "execution_count": 22,
   "metadata": {},
   "outputs": [
    {
     "data": {
      "image/png": "[encoded data removed]",
      "text/plain": [
       "<Figure size 800x500 with 1 Axes>"
      ]
     },
     "metadata": {},
     "output_type": "display_data"
    }
   ],
   "source": [
    "# Create the histogram\n",
    "plt.figure(figsize=(8, 5))\n",
    "ax = sns.histplot(df['CSAT Score'], kde=True, bins=10, color='blue')\n",
    "\n",
    "# Add values above bars\n",
    "for p in ax.patches:\n",
    "    ax.annotate(f'{int(p.get_height())}',\n",
    "                (p.get_x() + p.get_width() / 2, p.get_height()),\n",
    "                ha='center', va='bottom', fontsize=10, color='black')\n",
    "\n",
    "# Add titles and labels\n",
    "plt.title('Distribution of CSAT Scores')\n",
    "plt.xlabel('CSAT Score')\n",
    "plt.ylabel('Frequency')\n",
    "plt.show()"
   ]
  },
  {
   "cell_type": "markdown",
   "metadata": {},
   "source": [
    "2. How does CSAT Score vary across different customer service channels?\n",
    "\n",
    "Analyzing service channels can identify high and low-performing ones."
   ]
  },
  {
   "cell_type": "code",
   "execution_count": 23,
   "metadata": {},
   "outputs": [
    {
     "name": "stderr",
     "output_type": "stream",
     "text": [
      "C:\\Users\\Ishwar\\AppData\\Local\\Temp\\ipykernel_26132\\2142604786.py:4: FutureWarning: \n",
      "\n",
      "Passing `palette` without assigning `hue` is deprecated and will be removed in v0.14.0. Assign the `x` variable to `hue` and set `legend=False` for the same effect.\n",
      "\n",
      "  sns.boxplot(data=df, x='channel_name', y='CSAT Score', palette='viridis')\n"
     ]
    },
    {
     "data": {
      "image/png": "[encoded data removed]",
      "text/plain": [
       "<Figure size 1000x600 with 1 Axes>"
      ]
     },
     "metadata": {},
     "output_type": "display_data"
    }
   ],
   "source": [
    "# visualization code \n",
    "\n",
    "plt.figure(figsize=(10, 6))\n",
    "sns.boxplot(data=df, x='channel_name', y='CSAT Score', palette='viridis')\n",
    "plt.title('CSAT Scores by Channel')\n",
    "plt.xticks(rotation=45)\n",
    "plt.xlabel('Channel')\n",
    "plt.ylabel('CSAT Score')\n",
    "plt.show()"
   ]
  },
  {
   "cell_type": "markdown",
   "metadata": {},
   "source": [
    "3. What are the top interaction categories for low CSAT scores?\n",
    "\n",
    "Identifying categories frequently associated with low scores helps target improvements.\n",
    "\n"
   ]
  },
  {
   "cell_type": "code",
   "execution_count": 24,
   "metadata": {},
   "outputs": [
    {
     "data": {
      "text/plain": [
       "category\n",
       "Returns              4362\n",
       "Order Related        3400\n",
       "Refund Related        585\n",
       "Product Queries       454\n",
       "Cancellation          424\n",
       "Feedback              309\n",
       "Shopzilla Related     291\n",
       "Payments related      202\n",
       "Offers & Cashback      55\n",
       "Others                 24\n",
       "Name: count, dtype: int64"
      ]
     },
     "execution_count": 24,
     "metadata": {},
     "output_type": "execute_result"
    }
   ],
   "source": [
    "low_csat = df[df['CSAT Score'] <= 2]  # Assuming scores 1-2 are low\n",
    "category_counts = low_csat['category'].value_counts().head(10)\n",
    "category_counts"
   ]
  },
  {
   "cell_type": "code",
   "execution_count": 25,
   "metadata": {},
   "outputs": [
    {
     "data": {
      "image/png": "[encoded data removed]",
      "text/plain": [
       "<Figure size 800x500 with 1 Axes>"
      ]
     },
     "metadata": {},
     "output_type": "display_data"
    }
   ],
   "source": [
    "# visualization code \n",
    "\n",
    "plt.figure(figsize=(8, 5))\n",
    "category_counts.plot(kind='bar', color='orange')\n",
    "plt.title('Top Categories for Low CSAT Scores')\n",
    "plt.xlabel('Category')\n",
    "plt.ylabel('Count')\n",
    "plt.show()"
   ]
  },
  {
   "cell_type": "markdown",
   "metadata": {},
   "source": [
    "4. What are the top 5 channels with the highest average CSAT scores?\n",
    "\n",
    "This will help identify which customer service channels are excelling in customer satisfaction.\n",
    "\n"
   ]
  },
  {
   "cell_type": "code",
   "execution_count": 26,
   "metadata": {},
   "outputs": [
    {
     "data": {
      "text/html": [
       "<div>\n",
       "<style scoped>\n",
       "    .dataframe tbody tr th:only-of-type {\n",
       "        vertical-align: middle;\n",
       "    }\n",
       "\n",
       "    .dataframe tbody tr th {\n",
       "        vertical-align: top;\n",
       "    }\n",
       "\n",
       "    .dataframe thead th {\n",
       "        text-align: right;\n",
       "    }\n",
       "</style>\n",
       "<table border=\"1\" class=\"dataframe\">\n",
       "  <thead>\n",
       "    <tr style=\"text-align: right;\">\n",
       "      <th></th>\n",
       "      <th>channel_name</th>\n",
       "      <th>CSAT Score</th>\n",
       "    </tr>\n",
       "  </thead>\n",
       "  <tbody>\n",
       "    <tr>\n",
       "      <th>2</th>\n",
       "      <td>Outcall</td>\n",
       "      <td>4.260682</td>\n",
       "    </tr>\n",
       "    <tr>\n",
       "      <th>1</th>\n",
       "      <td>Inbound</td>\n",
       "      <td>4.233473</td>\n",
       "    </tr>\n",
       "    <tr>\n",
       "      <th>0</th>\n",
       "      <td>Email</td>\n",
       "      <td>3.901192</td>\n",
       "    </tr>\n",
       "  </tbody>\n",
       "</table>\n",
       "</div>"
      ],
      "text/plain": [
       "  channel_name  CSAT Score\n",
       "2      Outcall    4.260682\n",
       "1      Inbound    4.233473\n",
       "0        Email    3.901192"
      ]
     },
     "execution_count": 26,
     "metadata": {},
     "output_type": "execute_result"
    }
   ],
   "source": [
    "# Calculate average CSAT score by channel_name\n",
    "channel_csat_avg = df.groupby('channel_name')['CSAT Score'].mean().reset_index()\n",
    "\n",
    "# Sort and pick top channels \n",
    "top_channels = channel_csat_avg.sort_values(by='CSAT Score', ascending=False)\n",
    "top_channels"
   ]
  },
  {
   "cell_type": "code",
   "execution_count": 27,
   "metadata": {},
   "outputs": [
    {
     "name": "stderr",
     "output_type": "stream",
     "text": [
      "C:\\Users\\Ishwar\\AppData\\Local\\Temp\\ipykernel_26132\\1406231331.py:3: FutureWarning: \n",
      "\n",
      "Passing `palette` without assigning `hue` is deprecated and will be removed in v0.14.0. Assign the `y` variable to `hue` and set `legend=False` for the same effect.\n",
      "\n",
      "  sns.barplot(data=top_channels, x='CSAT Score', y='channel_name', palette='viridis')\n"
     ]
    },
    {
     "data": {
      "image/png": "[encoded data removed]",
      "text/plain": [
       "<Figure size 800x600 with 1 Axes>"
      ]
     },
     "metadata": {},
     "output_type": "display_data"
    }
   ],
   "source": [
    "\n",
    "# Plot\n",
    "plt.figure(figsize=(8, 6))\n",
    "sns.barplot(data=top_channels, x='CSAT Score', y='channel_name', palette='viridis')\n",
    "\n",
    "# Add bar values\n",
    "for index, value in enumerate(top_channels['CSAT Score']):\n",
    "    plt.text(value + 0.1, index, f'{value:.2f}', va='center')\n",
    "\n",
    "plt.title('Channels with Highest Average CSAT Score')\n",
    "plt.xlabel('Average CSAT Score')\n",
    "plt.ylabel('Customer Service Channel')\n",
    "plt.tight_layout()\n",
    "plt.show()"
   ]
  },
  {
   "cell_type": "markdown",
   "metadata": {},
   "source": [
    "5. What is the trend of CSAT scores over time?\n",
    "\n",
    "Checking for trends in satisfaction scores over days or weeks."
   ]
  },
  {
   "cell_type": "code",
   "execution_count": 28,
   "metadata": {},
   "outputs": [
    {
     "data": {
      "text/plain": [
       "Survey_response_Date\n",
       "2023-08-01    4.188256\n",
       "2023-08-02    4.186695\n",
       "2023-08-03    3.719880\n",
       "2023-08-04    3.723735\n",
       "2023-08-05    4.243713\n",
       "2023-08-06    4.242972\n",
       "2023-08-07    4.198739\n",
       "2023-08-08    4.172333\n",
       "2023-08-09    4.172512\n",
       "2023-08-10    4.224824\n",
       "2023-08-11    4.238131\n",
       "2023-08-12    3.967251\n",
       "2023-08-13    3.880157\n",
       "2023-08-14    3.921799\n",
       "2023-08-15    3.959108\n",
       "2023-08-16    3.821485\n",
       "2023-08-17    4.186658\n",
       "2023-08-18    4.207678\n",
       "2023-08-19    4.209936\n",
       "2023-08-20    4.241753\n",
       "2023-08-21    4.245020\n",
       "2023-08-22    4.246589\n",
       "2023-08-23    4.286685\n",
       "2023-08-24    4.323093\n",
       "2023-08-25    4.263137\n",
       "2023-08-26    4.305017\n",
       "2023-08-27    4.036545\n",
       "2023-08-28    4.333530\n",
       "2023-08-29    4.361041\n",
       "2023-08-30    4.319188\n",
       "2023-08-31    4.293847\n",
       "Name: CSAT Score, dtype: float64"
      ]
     },
     "execution_count": 28,
     "metadata": {},
     "output_type": "execute_result"
    }
   ],
   "source": [
    "df['Survey_response_Date'] = pd.to_datetime(df['Survey_response_Date'])\n",
    "csat_trend = df.groupby('Survey_response_Date')['CSAT Score'].mean()\n",
    "csat_trend"
   ]
  },
  {
   "cell_type": "code",
   "execution_count": 29,
   "metadata": {},
   "outputs": [
    {
     "data": {
      "image/png": "[encoded data removed]",
      "text/plain": [
       "<Figure size 1200x600 with 1 Axes>"
      ]
     },
     "metadata": {},
     "output_type": "display_data"
    }
   ],
   "source": [
    "# visualization code\n",
    "\n",
    "plt.figure(figsize=(12, 6))\n",
    "csat_trend.plot()\n",
    "plt.title('CSAT Scores Over Time')\n",
    "plt.xlabel('Date')\n",
    "plt.ylabel('Average CSAT Score')\n",
    "plt.show()"
   ]
  },
  {
   "cell_type": "markdown",
   "metadata": {},
   "source": [
    "6. Which managers and supervisors are associated with the highest average CSAT scores?"
   ]
  },
  {
   "cell_type": "code",
   "execution_count": 30,
   "metadata": {},
   "outputs": [
    {
     "name": "stdout",
     "output_type": "stream",
     "text": [
      "      Manager        Supervisor  CSAT Score\n",
      "0  Emily Chen      Zoe Yamamoto    4.549333\n",
      "1  John Smith      Nathan Patel    4.547731\n",
      "2  Olivia Tan       Mason Gupta    4.489510\n",
      "3  Emily Chen      Nathan Patel    4.470460\n",
      "4  Emily Chen  Elijah Yamaguchi    4.468121\n",
      "5  John Smith  Elijah Yamaguchi    4.457561\n",
      "6  John Smith     Olivia Suzuki    4.446058\n",
      "7  John Smith      Brayden Wong    4.440851\n",
      "8  Emily Chen       Olivia Wang    4.432668\n",
      "9  Emily Chen     Landon Tanaka    4.430864\n"
     ]
    }
   ],
   "source": [
    "# Group by manager and supervisor to calculate average CSAT score\n",
    "manager_supervisor_csat = (\n",
    "    df.groupby(['Manager', 'Supervisor'])['CSAT Score']\n",
    "    .mean()\n",
    "    .reset_index()\n",
    "    .sort_values(by='CSAT Score', ascending=False)\n",
    ").reset_index(drop= True)\n",
    "\n",
    "# Display top 10 results\n",
    "print(manager_supervisor_csat.head(10)) "
   ]
  },
  {
   "cell_type": "code",
   "execution_count": 31,
   "metadata": {},
   "outputs": [
    {
     "data": {
      "image/png": "[encoded data removed]",
      "text/plain": [
       "<Figure size 1200x800 with 1 Axes>"
      ]
     },
     "metadata": {},
     "output_type": "display_data"
    }
   ],
   "source": [
    "\n",
    "# Visualization\n",
    "plt.figure(figsize=(12, 8))\n",
    "sns.barplot(data=manager_supervisor_csat.head(10), x='CSAT Score', y='Supervisor', hue='Manager', palette='plasma')\n",
    "plt.title('Top Managers and Supervisors by Average CSAT Score')\n",
    "plt.xlabel('Average CSAT Score')\n",
    "plt.ylabel('Supervisor')\n",
    "plt.legend(bbox_to_anchor=(1.05, 1), loc='upper left')\n",
    "plt.tight_layout()\n",
    "plt.show()"
   ]
  },
  {
   "cell_type": "markdown",
   "metadata": {},
   "source": [
    "7. What is the relationship between the agent's shift (Agent Shift) and the average CSAT score?\n",
    "\n",
    "This will help determine if shifts influence customer satisfaction."
   ]
  },
  {
   "cell_type": "code",
   "execution_count": 32,
   "metadata": {},
   "outputs": [
    {
     "data": {
      "text/html": [
       "<div>\n",
       "<style scoped>\n",
       "    .dataframe tbody tr th:only-of-type {\n",
       "        vertical-align: middle;\n",
       "    }\n",
       "\n",
       "    .dataframe tbody tr th {\n",
       "        vertical-align: top;\n",
       "    }\n",
       "\n",
       "    .dataframe thead th {\n",
       "        text-align: right;\n",
       "    }\n",
       "</style>\n",
       "<table border=\"1\" class=\"dataframe\">\n",
       "  <thead>\n",
       "    <tr style=\"text-align: right;\">\n",
       "      <th></th>\n",
       "      <th>Agent Shift</th>\n",
       "      <th>CSAT Score</th>\n",
       "    </tr>\n",
       "  </thead>\n",
       "  <tbody>\n",
       "    <tr>\n",
       "      <th>0</th>\n",
       "      <td>Split</td>\n",
       "      <td>4.397441</td>\n",
       "    </tr>\n",
       "    <tr>\n",
       "      <th>1</th>\n",
       "      <td>Afternoon</td>\n",
       "      <td>4.277997</td>\n",
       "    </tr>\n",
       "    <tr>\n",
       "      <th>2</th>\n",
       "      <td>Night</td>\n",
       "      <td>4.267980</td>\n",
       "    </tr>\n",
       "    <tr>\n",
       "      <th>3</th>\n",
       "      <td>Evening</td>\n",
       "      <td>4.261733</td>\n",
       "    </tr>\n",
       "    <tr>\n",
       "      <th>4</th>\n",
       "      <td>Morning</td>\n",
       "      <td>4.173269</td>\n",
       "    </tr>\n",
       "  </tbody>\n",
       "</table>\n",
       "</div>"
      ],
      "text/plain": [
       "  Agent Shift  CSAT Score\n",
       "0       Split    4.397441\n",
       "1   Afternoon    4.277997\n",
       "2       Night    4.267980\n",
       "3     Evening    4.261733\n",
       "4     Morning    4.173269"
      ]
     },
     "execution_count": 32,
     "metadata": {},
     "output_type": "execute_result"
    }
   ],
   "source": [
    "# Calculate average CSAT score for each shift\n",
    "shift_csat_avg = df.groupby('Agent Shift')['CSAT Score'].mean().reset_index()\n",
    "\n",
    "# Sort for better visualization\n",
    "shift_csat_avg = shift_csat_avg.sort_values(by='CSAT Score', ascending=False).reset_index(drop=True)\n",
    "shift_csat_avg"
   ]
  },
  {
   "cell_type": "code",
   "execution_count": 33,
   "metadata": {},
   "outputs": [
    {
     "name": "stderr",
     "output_type": "stream",
     "text": [
      "C:\\Users\\Ishwar\\AppData\\Local\\Temp\\ipykernel_26132\\293230286.py:3: FutureWarning: \n",
      "\n",
      "Passing `palette` without assigning `hue` is deprecated and will be removed in v0.14.0. Assign the `x` variable to `hue` and set `legend=False` for the same effect.\n",
      "\n",
      "  ax = sns.barplot(x='Agent Shift', y='CSAT Score', data=shift_csat_avg, palette='viridis')\n"
     ]
    },
    {
     "data": {
      "image/png": "[encoded data removed]",
      "text/plain": [
       "<Figure size 800x500 with 1 Axes>"
      ]
     },
     "metadata": {},
     "output_type": "display_data"
    }
   ],
   "source": [
    "\n",
    "# Create a bar plot\n",
    "plt.figure(figsize=(8, 5))\n",
    "ax = sns.barplot(x='Agent Shift', y='CSAT Score', data=shift_csat_avg, palette='viridis')\n",
    "\n",
    "# Add values above the bars\n",
    "for p in ax.patches:\n",
    "    ax.annotate(f'{p.get_height():.2f}',\n",
    "                (p.get_x() + p.get_width() / 2, p.get_height()),\n",
    "                ha='center', va='bottom', fontsize=10, color='black')\n",
    "\n",
    "# Add titles and labels\n",
    "plt.title('Average CSAT Score by Agent Shift')\n",
    "plt.xlabel('Agent Shift')\n",
    "plt.ylabel('Average CSAT Score')\n",
    "plt.xticks(rotation=45)\n",
    "plt.show()"
   ]
  },
  {
   "cell_type": "markdown",
   "metadata": {},
   "source": [
    "8. Does the interaction category (Category) significantly affect the average CSAT score?\n",
    "\n",
    "Analyzing this will help identify which categories of interaction are associated with higher or lower satisfaction."
   ]
  },
  {
   "cell_type": "code",
   "execution_count": 34,
   "metadata": {},
   "outputs": [
    {
     "data": {
      "text/html": [
       "<div>\n",
       "<style scoped>\n",
       "    .dataframe tbody tr th:only-of-type {\n",
       "        vertical-align: middle;\n",
       "    }\n",
       "\n",
       "    .dataframe tbody tr th {\n",
       "        vertical-align: top;\n",
       "    }\n",
       "\n",
       "    .dataframe thead th {\n",
       "        text-align: right;\n",
       "    }\n",
       "</style>\n",
       "<table border=\"1\" class=\"dataframe\">\n",
       "  <thead>\n",
       "    <tr style=\"text-align: right;\">\n",
       "      <th></th>\n",
       "      <th>category</th>\n",
       "      <th>CSAT Score</th>\n",
       "    </tr>\n",
       "  </thead>\n",
       "  <tbody>\n",
       "    <tr>\n",
       "      <th>0</th>\n",
       "      <td>Payments related</td>\n",
       "      <td>4.374509</td>\n",
       "    </tr>\n",
       "    <tr>\n",
       "      <th>1</th>\n",
       "      <td>App/website</td>\n",
       "      <td>4.357143</td>\n",
       "    </tr>\n",
       "    <tr>\n",
       "      <th>2</th>\n",
       "      <td>Returns</td>\n",
       "      <td>4.327034</td>\n",
       "    </tr>\n",
       "    <tr>\n",
       "      <th>3</th>\n",
       "      <td>Shopzilla Related</td>\n",
       "      <td>4.277671</td>\n",
       "    </tr>\n",
       "    <tr>\n",
       "      <th>4</th>\n",
       "      <td>Refund Related</td>\n",
       "      <td>4.191870</td>\n",
       "    </tr>\n",
       "    <tr>\n",
       "      <th>5</th>\n",
       "      <td>Offers &amp; Cashback</td>\n",
       "      <td>4.175141</td>\n",
       "    </tr>\n",
       "    <tr>\n",
       "      <th>6</th>\n",
       "      <td>Feedback</td>\n",
       "      <td>4.162177</td>\n",
       "    </tr>\n",
       "    <tr>\n",
       "      <th>7</th>\n",
       "      <td>Onboarding related</td>\n",
       "      <td>4.132075</td>\n",
       "    </tr>\n",
       "    <tr>\n",
       "      <th>8</th>\n",
       "      <td>Order Related</td>\n",
       "      <td>4.086022</td>\n",
       "    </tr>\n",
       "    <tr>\n",
       "      <th>9</th>\n",
       "      <td>Product Queries</td>\n",
       "      <td>4.078788</td>\n",
       "    </tr>\n",
       "    <tr>\n",
       "      <th>10</th>\n",
       "      <td>Cancellation</td>\n",
       "      <td>3.917076</td>\n",
       "    </tr>\n",
       "    <tr>\n",
       "      <th>11</th>\n",
       "      <td>Others</td>\n",
       "      <td>3.548780</td>\n",
       "    </tr>\n",
       "  </tbody>\n",
       "</table>\n",
       "</div>"
      ],
      "text/plain": [
       "              category  CSAT Score\n",
       "0     Payments related    4.374509\n",
       "1          App/website    4.357143\n",
       "2              Returns    4.327034\n",
       "3    Shopzilla Related    4.277671\n",
       "4       Refund Related    4.191870\n",
       "5    Offers & Cashback    4.175141\n",
       "6             Feedback    4.162177\n",
       "7   Onboarding related    4.132075\n",
       "8        Order Related    4.086022\n",
       "9      Product Queries    4.078788\n",
       "10        Cancellation    3.917076\n",
       "11              Others    3.548780"
      ]
     },
     "execution_count": 34,
     "metadata": {},
     "output_type": "execute_result"
    }
   ],
   "source": [
    "# Calculate average CSAT score for each interaction category\n",
    "category_csat_avg = df.groupby('category')['CSAT Score'].mean().reset_index()\n",
    "\n",
    "# Sort for better visualization\n",
    "category_csat_avg = category_csat_avg.sort_values(by='CSAT Score', ascending=False).reset_index(drop= True)\n",
    "category_csat_avg"
   ]
  },
  {
   "cell_type": "code",
   "execution_count": 35,
   "metadata": {},
   "outputs": [
    {
     "name": "stderr",
     "output_type": "stream",
     "text": [
      "C:\\Users\\Ishwar\\AppData\\Local\\Temp\\ipykernel_26132\\1841046070.py:3: FutureWarning: \n",
      "\n",
      "Passing `palette` without assigning `hue` is deprecated and will be removed in v0.14.0. Assign the `y` variable to `hue` and set `legend=False` for the same effect.\n",
      "\n",
      "  ax = sns.barplot(x='CSAT Score', y='category', data=category_csat_avg, palette='mako', orient='h')\n"
     ]
    },
    {
     "data": {
      "image/png": "[encoded data removed]",
      "text/plain": [
       "<Figure size 1000x600 with 1 Axes>"
      ]
     },
     "metadata": {},
     "output_type": "display_data"
    }
   ],
   "source": [
    "\n",
    "# Create a bar plot\n",
    "plt.figure(figsize=(10, 6))\n",
    "ax = sns.barplot(x='CSAT Score', y='category', data=category_csat_avg, palette='mako', orient='h')\n",
    "\n",
    "# Add values next to the bars\n",
    "for p in ax.patches:\n",
    "    ax.annotate(f'{p.get_width():.2f}',\n",
    "                (p.get_width() + 0.05, p.get_y() + p.get_height() / 2),\n",
    "                ha='left', va='center', fontsize=10, color='black')\n",
    "\n",
    "# Add titles and labels\n",
    "plt.title('Average CSAT Score by Interaction Category')\n",
    "plt.xlabel('Average CSAT Score')\n",
    "plt.ylabel('Interaction Category')\n",
    "plt.tight_layout()\n",
    "plt.show()"
   ]
  },
  {
   "cell_type": "markdown",
   "metadata": {},
   "source": [
    "9. How does the tenure bucket of agents affect CSAT scores?"
   ]
  },
  {
   "cell_type": "code",
   "execution_count": 36,
   "metadata": {},
   "outputs": [
    {
     "data": {
      "text/html": [
       "<div>\n",
       "<style scoped>\n",
       "    .dataframe tbody tr th:only-of-type {\n",
       "        vertical-align: middle;\n",
       "    }\n",
       "\n",
       "    .dataframe tbody tr th {\n",
       "        vertical-align: top;\n",
       "    }\n",
       "\n",
       "    .dataframe thead th {\n",
       "        text-align: right;\n",
       "    }\n",
       "</style>\n",
       "<table border=\"1\" class=\"dataframe\">\n",
       "  <thead>\n",
       "    <tr style=\"text-align: right;\">\n",
       "      <th></th>\n",
       "      <th>Tenure Bucket</th>\n",
       "      <th>CSAT Score</th>\n",
       "    </tr>\n",
       "  </thead>\n",
       "  <tbody>\n",
       "    <tr>\n",
       "      <th>0</th>\n",
       "      <td>61-90</td>\n",
       "      <td>4.322781</td>\n",
       "    </tr>\n",
       "    <tr>\n",
       "      <th>1</th>\n",
       "      <td>31-60</td>\n",
       "      <td>4.283867</td>\n",
       "    </tr>\n",
       "    <tr>\n",
       "      <th>2</th>\n",
       "      <td>&gt;90</td>\n",
       "      <td>4.246053</td>\n",
       "    </tr>\n",
       "    <tr>\n",
       "      <th>3</th>\n",
       "      <td>0-30</td>\n",
       "      <td>4.236222</td>\n",
       "    </tr>\n",
       "    <tr>\n",
       "      <th>4</th>\n",
       "      <td>On Job Training</td>\n",
       "      <td>4.147996</td>\n",
       "    </tr>\n",
       "  </tbody>\n",
       "</table>\n",
       "</div>"
      ],
      "text/plain": [
       "     Tenure Bucket  CSAT Score\n",
       "0            61-90    4.322781\n",
       "1            31-60    4.283867\n",
       "2              >90    4.246053\n",
       "3             0-30    4.236222\n",
       "4  On Job Training    4.147996"
      ]
     },
     "execution_count": 36,
     "metadata": {},
     "output_type": "execute_result"
    }
   ],
   "source": [
    "# Calculate average CSAT score by tenure bucket\n",
    "tenure_csat_avg = df.groupby('Tenure Bucket')['CSAT Score'].mean().reset_index()\n",
    "\n",
    "# Sort the data\n",
    "tenure_csat_avg = tenure_csat_avg.sort_values(by='CSAT Score', ascending=False).reset_index(drop= True)\n",
    "tenure_csat_avg"
   ]
  },
  {
   "cell_type": "code",
   "execution_count": 37,
   "metadata": {},
   "outputs": [
    {
     "name": "stderr",
     "output_type": "stream",
     "text": [
      "C:\\Users\\Ishwar\\AppData\\Local\\Temp\\ipykernel_26132\\3188548849.py:3: FutureWarning: \n",
      "\n",
      "Passing `palette` without assigning `hue` is deprecated and will be removed in v0.14.0. Assign the `y` variable to `hue` and set `legend=False` for the same effect.\n",
      "\n",
      "  sns.barplot(data=tenure_csat_avg, x='CSAT Score', y='Tenure Bucket', palette='Spectral')\n"
     ]
    },
    {
     "data": {
      "image/png": "[encoded data removed]",
      "text/plain": [
       "<Figure size 800x600 with 1 Axes>"
      ]
     },
     "metadata": {},
     "output_type": "display_data"
    }
   ],
   "source": [
    "\n",
    "# Plot\n",
    "plt.figure(figsize=(8, 6))\n",
    "sns.barplot(data=tenure_csat_avg, x='CSAT Score', y='Tenure Bucket', palette='Spectral')\n",
    "\n",
    "# Add bar values\n",
    "for index, value in enumerate(tenure_csat_avg['CSAT Score']):\n",
    "    plt.text(value + 0.1, index, f'{value:.2f}', va='center')\n",
    "\n",
    "plt.title('Average CSAT Score by Agent Tenure Bucket')\n",
    "plt.xlabel('Average CSAT Score')\n",
    "plt.ylabel('Tenure Bucket')\n",
    "plt.tight_layout()\n",
    "plt.show()"
   ]
  },
  {
   "cell_type": "markdown",
   "metadata": {},
   "source": [
    "10. What is the distribution of CSAT scores across agent shifts?"
   ]
  },
  {
   "cell_type": "code",
   "execution_count": 38,
   "metadata": {},
   "outputs": [
    {
     "data": {
      "text/html": [
       "<div>\n",
       "<style scoped>\n",
       "    .dataframe tbody tr th:only-of-type {\n",
       "        vertical-align: middle;\n",
       "    }\n",
       "\n",
       "    .dataframe tbody tr th {\n",
       "        vertical-align: top;\n",
       "    }\n",
       "\n",
       "    .dataframe thead th {\n",
       "        text-align: right;\n",
       "    }\n",
       "</style>\n",
       "<table border=\"1\" class=\"dataframe\">\n",
       "  <thead>\n",
       "    <tr style=\"text-align: right;\">\n",
       "      <th>CSAT Score</th>\n",
       "      <th>1</th>\n",
       "      <th>2</th>\n",
       "      <th>3</th>\n",
       "      <th>4</th>\n",
       "      <th>5</th>\n",
       "    </tr>\n",
       "    <tr>\n",
       "      <th>Agent Shift</th>\n",
       "      <th></th>\n",
       "      <th></th>\n",
       "      <th></th>\n",
       "      <th></th>\n",
       "      <th></th>\n",
       "    </tr>\n",
       "  </thead>\n",
       "  <tbody>\n",
       "    <tr>\n",
       "      <th>Afternoon</th>\n",
       "      <td>559</td>\n",
       "      <td>85</td>\n",
       "      <td>114</td>\n",
       "      <td>582</td>\n",
       "      <td>3232</td>\n",
       "    </tr>\n",
       "    <tr>\n",
       "      <th>Evening</th>\n",
       "      <td>3340</td>\n",
       "      <td>383</td>\n",
       "      <td>787</td>\n",
       "      <td>3470</td>\n",
       "      <td>18505</td>\n",
       "    </tr>\n",
       "    <tr>\n",
       "      <th>Morning</th>\n",
       "      <td>4796</td>\n",
       "      <td>513</td>\n",
       "      <td>1047</td>\n",
       "      <td>4356</td>\n",
       "      <td>22156</td>\n",
       "    </tr>\n",
       "    <tr>\n",
       "      <th>Night</th>\n",
       "      <td>130</td>\n",
       "      <td>20</td>\n",
       "      <td>33</td>\n",
       "      <td>97</td>\n",
       "      <td>735</td>\n",
       "    </tr>\n",
       "    <tr>\n",
       "      <th>Split</th>\n",
       "      <td>265</td>\n",
       "      <td>33</td>\n",
       "      <td>79</td>\n",
       "      <td>331</td>\n",
       "      <td>2027</td>\n",
       "    </tr>\n",
       "  </tbody>\n",
       "</table>\n",
       "</div>"
      ],
      "text/plain": [
       "CSAT Score      1    2     3     4      5\n",
       "Agent Shift                              \n",
       "Afternoon     559   85   114   582   3232\n",
       "Evening      3340  383   787  3470  18505\n",
       "Morning      4796  513  1047  4356  22156\n",
       "Night         130   20    33    97    735\n",
       "Split         265   33    79   331   2027"
      ]
     },
     "execution_count": 38,
     "metadata": {},
     "output_type": "execute_result"
    }
   ],
   "source": [
    "# Count CSAT scores per agent shift\n",
    "shift_csat_distribution = df.groupby('Agent Shift')['CSAT Score'].value_counts().unstack().fillna(0)\n",
    "shift_csat_distribution"
   ]
  },
  {
   "cell_type": "code",
   "execution_count": 39,
   "metadata": {},
   "outputs": [
    {
     "data": {
      "image/png": "[encoded data removed]",
      "text/plain": [
       "<Figure size 1000x700 with 1 Axes>"
      ]
     },
     "metadata": {},
     "output_type": "display_data"
    }
   ],
   "source": [
    "\n",
    "# Plot a stacked bar chart\n",
    "shift_csat_distribution.plot(kind='bar', stacked=True, figsize=(10, 7), colormap='tab10')\n",
    "\n",
    "plt.title('Distribution of CSAT Scores Across Agent Shifts')\n",
    "plt.xlabel('Agent Shift')\n",
    "plt.ylabel('Count of CSAT Scores')\n",
    "plt.legend(title='CSAT Score', bbox_to_anchor=(1.05, 1), loc='upper left')\n",
    "plt.tight_layout()\n",
    "plt.show()"
   ]
  },
  {
   "cell_type": "code",
   "execution_count": null,
   "metadata": {},
   "outputs": [],
   "source": []
  },
  {
   "cell_type": "markdown",
   "metadata": {},
   "source": [
    "### Data Transformation"
   ]
  },
  {
   "cell_type": "markdown",
   "metadata": {},
   "source": [
    "* Handling Categorical Variables\n",
    "\n",
    "Categorical columns like channel_name, category, Sub-category, etc., need encoding for neural network inputs. Use one-hot encoding to transform these variables."
   ]
  },
  {
   "cell_type": "code",
   "execution_count": 40,
   "metadata": {},
   "outputs": [],
   "source": [
    "# One-hot encoding for categorical variables\n",
    "\n",
    "categorical_columns = ['channel_name', 'category', 'Sub-category', 'Agent_name', 'Supervisor', 'Manager', 'Tenure Bucket', 'Agent Shift']\n",
    "df_encoded = pd.get_dummies(df, columns=categorical_columns, drop_first=True)\n"
   ]
  },
  {
   "cell_type": "code",
   "execution_count": 41,
   "metadata": {},
   "outputs": [
    {
     "data": {
      "text/html": [
       "<div>\n",
       "<style scoped>\n",
       "    .dataframe tbody tr th:only-of-type {\n",
       "        vertical-align: middle;\n",
       "    }\n",
       "\n",
       "    .dataframe tbody tr th {\n",
       "        vertical-align: top;\n",
       "    }\n",
       "\n",
       "    .dataframe thead th {\n",
       "        text-align: right;\n",
       "    }\n",
       "</style>\n",
       "<table border=\"1\" class=\"dataframe\">\n",
       "  <thead>\n",
       "    <tr style=\"text-align: right;\">\n",
       "      <th></th>\n",
       "      <th>Unique id</th>\n",
       "      <th>Customer Remarks</th>\n",
       "      <th>Order_id</th>\n",
       "      <th>Issue_reported at</th>\n",
       "      <th>issue_responded</th>\n",
       "      <th>Survey_response_Date</th>\n",
       "      <th>CSAT Score</th>\n",
       "      <th>channel_name_Inbound</th>\n",
       "      <th>channel_name_Outcall</th>\n",
       "      <th>category_Cancellation</th>\n",
       "      <th>...</th>\n",
       "      <th>Manager_Olivia Tan</th>\n",
       "      <th>Manager_William Kim</th>\n",
       "      <th>Tenure Bucket_31-60</th>\n",
       "      <th>Tenure Bucket_61-90</th>\n",
       "      <th>Tenure Bucket_&gt;90</th>\n",
       "      <th>Tenure Bucket_On Job Training</th>\n",
       "      <th>Agent Shift_Evening</th>\n",
       "      <th>Agent Shift_Morning</th>\n",
       "      <th>Agent Shift_Night</th>\n",
       "      <th>Agent Shift_Split</th>\n",
       "    </tr>\n",
       "  </thead>\n",
       "  <tbody>\n",
       "    <tr>\n",
       "      <th>0</th>\n",
       "      <td>7e9ae164-6a8b-4521-a2d4-58f7c9fff13f</td>\n",
       "      <td>No Remarks</td>\n",
       "      <td>c27c9bb4-fa36-4140-9f1f-21009254ffdb</td>\n",
       "      <td>2023-08-01 11:13:00</td>\n",
       "      <td>2023-08-01 11:47:00</td>\n",
       "      <td>2023-08-01</td>\n",
       "      <td>5</td>\n",
       "      <td>False</td>\n",
       "      <td>True</td>\n",
       "      <td>False</td>\n",
       "      <td>...</td>\n",
       "      <td>False</td>\n",
       "      <td>False</td>\n",
       "      <td>False</td>\n",
       "      <td>False</td>\n",
       "      <td>False</td>\n",
       "      <td>True</td>\n",
       "      <td>False</td>\n",
       "      <td>True</td>\n",
       "      <td>False</td>\n",
       "      <td>False</td>\n",
       "    </tr>\n",
       "    <tr>\n",
       "      <th>1</th>\n",
       "      <td>b07ec1b0-f376-43b6-86df-ec03da3b2e16</td>\n",
       "      <td>No Remarks</td>\n",
       "      <td>d406b0c7-ce17-4654-b9de-f08d421254bd</td>\n",
       "      <td>2023-08-01 12:52:00</td>\n",
       "      <td>2023-08-01 12:54:00</td>\n",
       "      <td>2023-08-01</td>\n",
       "      <td>5</td>\n",
       "      <td>False</td>\n",
       "      <td>True</td>\n",
       "      <td>False</td>\n",
       "      <td>...</td>\n",
       "      <td>False</td>\n",
       "      <td>False</td>\n",
       "      <td>False</td>\n",
       "      <td>False</td>\n",
       "      <td>True</td>\n",
       "      <td>False</td>\n",
       "      <td>False</td>\n",
       "      <td>True</td>\n",
       "      <td>False</td>\n",
       "      <td>False</td>\n",
       "    </tr>\n",
       "    <tr>\n",
       "      <th>2</th>\n",
       "      <td>200814dd-27c7-4149-ba2b-bd3af3092880</td>\n",
       "      <td>No Remarks</td>\n",
       "      <td>c273368d-b961-44cb-beaf-62d6fd6c00d5</td>\n",
       "      <td>2023-08-01 20:16:00</td>\n",
       "      <td>2023-08-01 20:38:00</td>\n",
       "      <td>2023-08-01</td>\n",
       "      <td>5</td>\n",
       "      <td>True</td>\n",
       "      <td>False</td>\n",
       "      <td>False</td>\n",
       "      <td>...</td>\n",
       "      <td>False</td>\n",
       "      <td>True</td>\n",
       "      <td>False</td>\n",
       "      <td>False</td>\n",
       "      <td>False</td>\n",
       "      <td>True</td>\n",
       "      <td>True</td>\n",
       "      <td>False</td>\n",
       "      <td>False</td>\n",
       "      <td>False</td>\n",
       "    </tr>\n",
       "    <tr>\n",
       "      <th>3</th>\n",
       "      <td>eb0d3e53-c1ca-42d3-8486-e42c8d622135</td>\n",
       "      <td>No Remarks</td>\n",
       "      <td>5aed0059-55a4-4ec6-bb54-97942092020a</td>\n",
       "      <td>2023-08-01 20:56:00</td>\n",
       "      <td>2023-08-01 21:16:00</td>\n",
       "      <td>2023-08-01</td>\n",
       "      <td>5</td>\n",
       "      <td>True</td>\n",
       "      <td>False</td>\n",
       "      <td>False</td>\n",
       "      <td>...</td>\n",
       "      <td>False</td>\n",
       "      <td>False</td>\n",
       "      <td>False</td>\n",
       "      <td>False</td>\n",
       "      <td>True</td>\n",
       "      <td>False</td>\n",
       "      <td>True</td>\n",
       "      <td>False</td>\n",
       "      <td>False</td>\n",
       "      <td>False</td>\n",
       "    </tr>\n",
       "    <tr>\n",
       "      <th>4</th>\n",
       "      <td>ba903143-1e54-406c-b969-46c52f92e5df</td>\n",
       "      <td>No Remarks</td>\n",
       "      <td>e8bed5a9-6933-4aff-9dc6-ccefd7dcde59</td>\n",
       "      <td>2023-08-01 10:30:00</td>\n",
       "      <td>2023-08-01 10:32:00</td>\n",
       "      <td>2023-08-01</td>\n",
       "      <td>5</td>\n",
       "      <td>True</td>\n",
       "      <td>False</td>\n",
       "      <td>True</td>\n",
       "      <td>...</td>\n",
       "      <td>False</td>\n",
       "      <td>False</td>\n",
       "      <td>False</td>\n",
       "      <td>False</td>\n",
       "      <td>False</td>\n",
       "      <td>False</td>\n",
       "      <td>False</td>\n",
       "      <td>True</td>\n",
       "      <td>False</td>\n",
       "      <td>False</td>\n",
       "    </tr>\n",
       "  </tbody>\n",
       "</table>\n",
       "<p>5 rows × 1498 columns</p>\n",
       "</div>"
      ],
      "text/plain": [
       "                              Unique id Customer Remarks  \\\n",
       "0  7e9ae164-6a8b-4521-a2d4-58f7c9fff13f       No Remarks   \n",
       "1  b07ec1b0-f376-43b6-86df-ec03da3b2e16       No Remarks   \n",
       "2  200814dd-27c7-4149-ba2b-bd3af3092880       No Remarks   \n",
       "3  eb0d3e53-c1ca-42d3-8486-e42c8d622135       No Remarks   \n",
       "4  ba903143-1e54-406c-b969-46c52f92e5df       No Remarks   \n",
       "\n",
       "                               Order_id   Issue_reported at  \\\n",
       "0  c27c9bb4-fa36-4140-9f1f-21009254ffdb 2023-08-01 11:13:00   \n",
       "1  d406b0c7-ce17-4654-b9de-f08d421254bd 2023-08-01 12:52:00   \n",
       "2  c273368d-b961-44cb-beaf-62d6fd6c00d5 2023-08-01 20:16:00   \n",
       "3  5aed0059-55a4-4ec6-bb54-97942092020a 2023-08-01 20:56:00   \n",
       "4  e8bed5a9-6933-4aff-9dc6-ccefd7dcde59 2023-08-01 10:30:00   \n",
       "\n",
       "      issue_responded Survey_response_Date  CSAT Score  channel_name_Inbound  \\\n",
       "0 2023-08-01 11:47:00           2023-08-01           5                 False   \n",
       "1 2023-08-01 12:54:00           2023-08-01           5                 False   \n",
       "2 2023-08-01 20:38:00           2023-08-01           5                  True   \n",
       "3 2023-08-01 21:16:00           2023-08-01           5                  True   \n",
       "4 2023-08-01 10:32:00           2023-08-01           5                  True   \n",
       "\n",
       "   channel_name_Outcall  category_Cancellation  ...  Manager_Olivia Tan  \\\n",
       "0                  True                  False  ...               False   \n",
       "1                  True                  False  ...               False   \n",
       "2                 False                  False  ...               False   \n",
       "3                 False                  False  ...               False   \n",
       "4                 False                   True  ...               False   \n",
       "\n",
       "   Manager_William Kim  Tenure Bucket_31-60  Tenure Bucket_61-90  \\\n",
       "0                False                False                False   \n",
       "1                False                False                False   \n",
       "2                 True                False                False   \n",
       "3                False                False                False   \n",
       "4                False                False                False   \n",
       "\n",
       "   Tenure Bucket_>90  Tenure Bucket_On Job Training  Agent Shift_Evening  \\\n",
       "0              False                           True                False   \n",
       "1               True                          False                False   \n",
       "2              False                           True                 True   \n",
       "3               True                          False                 True   \n",
       "4              False                          False                False   \n",
       "\n",
       "   Agent Shift_Morning  Agent Shift_Night  Agent Shift_Split  \n",
       "0                 True              False              False  \n",
       "1                 True              False              False  \n",
       "2                False              False              False  \n",
       "3                False              False              False  \n",
       "4                 True              False              False  \n",
       "\n",
       "[5 rows x 1498 columns]"
      ]
     },
     "execution_count": 41,
     "metadata": {},
     "output_type": "execute_result"
    }
   ],
   "source": [
    "df_encoded.head()"
   ]
  },
  {
   "cell_type": "markdown",
   "metadata": {},
   "source": [
    "* Normalizing the CSAT Score\n",
    "\n",
    "Normalization scales numeric columns (like CSAT Score) between 0 and 1 to ensure uniformity across model inputs."
   ]
  },
  {
   "cell_type": "code",
   "execution_count": 42,
   "metadata": {},
   "outputs": [],
   "source": [
    "# Initialize scaler\n",
    "scaler = MinMaxScaler()\n",
    "\n",
    "# Normalize CSAT Score\n",
    "df_encoded['CSAT Score'] = scaler.fit_transform(df_encoded[['CSAT Score']])\n"
   ]
  },
  {
   "cell_type": "markdown",
   "metadata": {},
   "source": [
    "* Converting DateTime Columns\n",
    "\n",
    "Transform datetime columns (Issue_reported at, issue_responded, Survey_response_Date) into numeric features like hour, day, etc."
   ]
  },
  {
   "cell_type": "code",
   "execution_count": 43,
   "metadata": {},
   "outputs": [],
   "source": [
    "# Extract datetime features\n",
    "for col in ['Issue_reported at', 'issue_responded', 'Survey_response_Date']:\n",
    "    df_encoded[f'{col}_hour'] = pd.to_datetime(df[col]).dt.hour\n",
    "    df_encoded[f'{col}_day'] = pd.to_datetime(df[col]).dt.day\n",
    "    df_encoded[f'{col}_month'] = pd.to_datetime(df[col]).dt.month\n",
    "\n",
    "# Drop original datetime columns\n",
    "df_encoded.drop(['Issue_reported at', 'issue_responded', 'Survey_response_Date'], axis=1, inplace=True)\n"
   ]
  },
  {
   "cell_type": "markdown",
   "metadata": {},
   "source": [
    "### Splitting Data"
   ]
  },
  {
   "cell_type": "markdown",
   "metadata": {},
   "source": [
    "Split the dataset into training and testing sets for model training."
   ]
  },
  {
   "cell_type": "code",
   "execution_count": 44,
   "metadata": {},
   "outputs": [],
   "source": [
    "df_encoded.drop(columns=['Unique id', 'Order_id', 'Customer Remarks'], axis= 1, inplace= True)"
   ]
  },
  {
   "cell_type": "code",
   "execution_count": 45,
   "metadata": {},
   "outputs": [
    {
     "data": {
      "text/html": [
       "<div>\n",
       "<style scoped>\n",
       "    .dataframe tbody tr th:only-of-type {\n",
       "        vertical-align: middle;\n",
       "    }\n",
       "\n",
       "    .dataframe tbody tr th {\n",
       "        vertical-align: top;\n",
       "    }\n",
       "\n",
       "    .dataframe thead th {\n",
       "        text-align: right;\n",
       "    }\n",
       "</style>\n",
       "<table border=\"1\" class=\"dataframe\">\n",
       "  <thead>\n",
       "    <tr style=\"text-align: right;\">\n",
       "      <th></th>\n",
       "      <th>CSAT Score</th>\n",
       "      <th>channel_name_Inbound</th>\n",
       "      <th>channel_name_Outcall</th>\n",
       "      <th>category_Cancellation</th>\n",
       "      <th>category_Feedback</th>\n",
       "      <th>category_Offers &amp; Cashback</th>\n",
       "      <th>category_Onboarding related</th>\n",
       "      <th>category_Order Related</th>\n",
       "      <th>category_Others</th>\n",
       "      <th>category_Payments related</th>\n",
       "      <th>...</th>\n",
       "      <th>Agent Shift_Split</th>\n",
       "      <th>Issue_reported at_hour</th>\n",
       "      <th>Issue_reported at_day</th>\n",
       "      <th>Issue_reported at_month</th>\n",
       "      <th>issue_responded_hour</th>\n",
       "      <th>issue_responded_day</th>\n",
       "      <th>issue_responded_month</th>\n",
       "      <th>Survey_response_Date_hour</th>\n",
       "      <th>Survey_response_Date_day</th>\n",
       "      <th>Survey_response_Date_month</th>\n",
       "    </tr>\n",
       "  </thead>\n",
       "  <tbody>\n",
       "    <tr>\n",
       "      <th>0</th>\n",
       "      <td>1.0</td>\n",
       "      <td>False</td>\n",
       "      <td>True</td>\n",
       "      <td>False</td>\n",
       "      <td>False</td>\n",
       "      <td>False</td>\n",
       "      <td>False</td>\n",
       "      <td>False</td>\n",
       "      <td>False</td>\n",
       "      <td>False</td>\n",
       "      <td>...</td>\n",
       "      <td>False</td>\n",
       "      <td>11</td>\n",
       "      <td>1</td>\n",
       "      <td>8</td>\n",
       "      <td>11</td>\n",
       "      <td>1</td>\n",
       "      <td>8</td>\n",
       "      <td>0</td>\n",
       "      <td>1</td>\n",
       "      <td>8</td>\n",
       "    </tr>\n",
       "    <tr>\n",
       "      <th>1</th>\n",
       "      <td>1.0</td>\n",
       "      <td>False</td>\n",
       "      <td>True</td>\n",
       "      <td>False</td>\n",
       "      <td>False</td>\n",
       "      <td>False</td>\n",
       "      <td>False</td>\n",
       "      <td>False</td>\n",
       "      <td>False</td>\n",
       "      <td>False</td>\n",
       "      <td>...</td>\n",
       "      <td>False</td>\n",
       "      <td>12</td>\n",
       "      <td>1</td>\n",
       "      <td>8</td>\n",
       "      <td>12</td>\n",
       "      <td>1</td>\n",
       "      <td>8</td>\n",
       "      <td>0</td>\n",
       "      <td>1</td>\n",
       "      <td>8</td>\n",
       "    </tr>\n",
       "    <tr>\n",
       "      <th>2</th>\n",
       "      <td>1.0</td>\n",
       "      <td>True</td>\n",
       "      <td>False</td>\n",
       "      <td>False</td>\n",
       "      <td>False</td>\n",
       "      <td>False</td>\n",
       "      <td>False</td>\n",
       "      <td>True</td>\n",
       "      <td>False</td>\n",
       "      <td>False</td>\n",
       "      <td>...</td>\n",
       "      <td>False</td>\n",
       "      <td>20</td>\n",
       "      <td>1</td>\n",
       "      <td>8</td>\n",
       "      <td>20</td>\n",
       "      <td>1</td>\n",
       "      <td>8</td>\n",
       "      <td>0</td>\n",
       "      <td>1</td>\n",
       "      <td>8</td>\n",
       "    </tr>\n",
       "    <tr>\n",
       "      <th>3</th>\n",
       "      <td>1.0</td>\n",
       "      <td>True</td>\n",
       "      <td>False</td>\n",
       "      <td>False</td>\n",
       "      <td>False</td>\n",
       "      <td>False</td>\n",
       "      <td>False</td>\n",
       "      <td>False</td>\n",
       "      <td>False</td>\n",
       "      <td>False</td>\n",
       "      <td>...</td>\n",
       "      <td>False</td>\n",
       "      <td>20</td>\n",
       "      <td>1</td>\n",
       "      <td>8</td>\n",
       "      <td>21</td>\n",
       "      <td>1</td>\n",
       "      <td>8</td>\n",
       "      <td>0</td>\n",
       "      <td>1</td>\n",
       "      <td>8</td>\n",
       "    </tr>\n",
       "    <tr>\n",
       "      <th>4</th>\n",
       "      <td>1.0</td>\n",
       "      <td>True</td>\n",
       "      <td>False</td>\n",
       "      <td>True</td>\n",
       "      <td>False</td>\n",
       "      <td>False</td>\n",
       "      <td>False</td>\n",
       "      <td>False</td>\n",
       "      <td>False</td>\n",
       "      <td>False</td>\n",
       "      <td>...</td>\n",
       "      <td>False</td>\n",
       "      <td>10</td>\n",
       "      <td>1</td>\n",
       "      <td>8</td>\n",
       "      <td>10</td>\n",
       "      <td>1</td>\n",
       "      <td>8</td>\n",
       "      <td>0</td>\n",
       "      <td>1</td>\n",
       "      <td>8</td>\n",
       "    </tr>\n",
       "  </tbody>\n",
       "</table>\n",
       "<p>5 rows × 1501 columns</p>\n",
       "</div>"
      ],
      "text/plain": [
       "   CSAT Score  channel_name_Inbound  channel_name_Outcall  \\\n",
       "0         1.0                 False                  True   \n",
       "1         1.0                 False                  True   \n",
       "2         1.0                  True                 False   \n",
       "3         1.0                  True                 False   \n",
       "4         1.0                  True                 False   \n",
       "\n",
       "   category_Cancellation  category_Feedback  category_Offers & Cashback  \\\n",
       "0                  False              False                       False   \n",
       "1                  False              False                       False   \n",
       "2                  False              False                       False   \n",
       "3                  False              False                       False   \n",
       "4                   True              False                       False   \n",
       "\n",
       "   category_Onboarding related  category_Order Related  category_Others  \\\n",
       "0                        False                   False            False   \n",
       "1                        False                   False            False   \n",
       "2                        False                    True            False   \n",
       "3                        False                   False            False   \n",
       "4                        False                   False            False   \n",
       "\n",
       "   category_Payments related  ...  Agent Shift_Split  Issue_reported at_hour  \\\n",
       "0                      False  ...              False                      11   \n",
       "1                      False  ...              False                      12   \n",
       "2                      False  ...              False                      20   \n",
       "3                      False  ...              False                      20   \n",
       "4                      False  ...              False                      10   \n",
       "\n",
       "   Issue_reported at_day  Issue_reported at_month  issue_responded_hour  \\\n",
       "0                      1                        8                    11   \n",
       "1                      1                        8                    12   \n",
       "2                      1                        8                    20   \n",
       "3                      1                        8                    21   \n",
       "4                      1                        8                    10   \n",
       "\n",
       "   issue_responded_day  issue_responded_month  Survey_response_Date_hour  \\\n",
       "0                    1                      8                          0   \n",
       "1                    1                      8                          0   \n",
       "2                    1                      8                          0   \n",
       "3                    1                      8                          0   \n",
       "4                    1                      8                          0   \n",
       "\n",
       "   Survey_response_Date_day  Survey_response_Date_month  \n",
       "0                         1                           8  \n",
       "1                         1                           8  \n",
       "2                         1                           8  \n",
       "3                         1                           8  \n",
       "4                         1                           8  \n",
       "\n",
       "[5 rows x 1501 columns]"
      ]
     },
     "execution_count": 45,
     "metadata": {},
     "output_type": "execute_result"
    }
   ],
   "source": [
    "df_encoded.head()"
   ]
  },
  {
   "cell_type": "code",
   "execution_count": 46,
   "metadata": {},
   "outputs": [],
   "source": [
    "# Define features (X) and target (y)\n",
    "X = df_encoded.drop(['CSAT Score'], axis=1)\n",
    "y = df_encoded['CSAT Score']\n",
    "\n",
    "# Split data\n",
    "X_train, X_test, y_train, y_test = train_test_split(X, y, test_size=0.2, random_state=42)\n"
   ]
  },
  {
   "cell_type": "code",
   "execution_count": 47,
   "metadata": {},
   "outputs": [
    {
     "name": "stdout",
     "output_type": "stream",
     "text": [
      "channel_name_Inbound           bool\n",
      "channel_name_Outcall           bool\n",
      "category_Cancellation          bool\n",
      "category_Feedback              bool\n",
      "category_Offers & Cashback     bool\n",
      "                              ...  \n",
      "issue_responded_day           int32\n",
      "issue_responded_month         int32\n",
      "Survey_response_Date_hour     int32\n",
      "Survey_response_Date_day      int32\n",
      "Survey_response_Date_month    int32\n",
      "Length: 1500, dtype: object\n",
      "channel_name_Inbound           bool\n",
      "channel_name_Outcall           bool\n",
      "category_Cancellation          bool\n",
      "category_Feedback              bool\n",
      "category_Offers & Cashback     bool\n",
      "                              ...  \n",
      "issue_responded_day           int32\n",
      "issue_responded_month         int32\n",
      "Survey_response_Date_hour     int32\n",
      "Survey_response_Date_day      int32\n",
      "Survey_response_Date_month    int32\n",
      "Length: 1500, dtype: object\n"
     ]
    }
   ],
   "source": [
    "print(X_train.dtypes)\n",
    "print(X_test.dtypes)"
   ]
  },
  {
   "cell_type": "code",
   "execution_count": 48,
   "metadata": {},
   "outputs": [],
   "source": [
    "# converting boolean data type to innteger\n",
    "X_train = X_train.astype('float32')\n",
    "X_test = X_test.astype('float32')"
   ]
  },
  {
   "cell_type": "code",
   "execution_count": 49,
   "metadata": {},
   "outputs": [],
   "source": [
    "# Ensure target values are within expected range before scaling:\n",
    "# This assumes original CSAT scores were in range [1, 5]\n",
    "# If not, adjust the range accordingly\n",
    "original_y_train = scaler.inverse_transform(y_train.values.reshape(-1, 1)).astype(int).ravel()\n",
    "assert set(original_y_train).issubset(set([1, 2, 3, 4, 5]))\n",
    "\n",
    "# Convert target to one-hot encoded format\n",
    "y_train_cat = to_categorical(original_y_train - 1)  # Classes 0-4 for one-hot encoding\n",
    "y_test_cat = to_categorical(scaler.inverse_transform(y_test.values.reshape(-1, 1)).astype(int).ravel() - 1)\n"
   ]
  },
  {
   "cell_type": "code",
   "execution_count": 50,
   "metadata": {},
   "outputs": [
    {
     "name": "stderr",
     "output_type": "stream",
     "text": [
      "c:\\Users\\Ishwar\\custom_support\\venv\\Lib\\site-packages\\keras\\src\\layers\\core\\dense.py:87: UserWarning: Do not pass an `input_shape`/`input_dim` argument to a layer. When using Sequential models, prefer using an `Input(shape)` object as the first layer in the model instead.\n",
      "  super().__init__(activity_regularizer=activity_regularizer, **kwargs)\n"
     ]
    },
    {
     "name": "stdout",
     "output_type": "stream",
     "text": [
      "Epoch 1/50\n",
      "\u001b[1m1692/1692\u001b[0m \u001b[32m━━━━━━━━━━━━━━━━━━━━\u001b[0m\u001b[37m\u001b[0m \u001b[1m6s\u001b[0m 3ms/step - accuracy: 0.6764 - loss: 1.0474 - val_accuracy: 0.6890 - val_loss: 0.9692\n",
      "Epoch 2/50\n",
      "\u001b[1m1692/1692\u001b[0m \u001b[32m━━━━━━━━━━━━━━━━━━━━\u001b[0m\u001b[37m\u001b[0m \u001b[1m5s\u001b[0m 3ms/step - accuracy: 0.6869 - loss: 0.9678 - val_accuracy: 0.6890 - val_loss: 0.9525\n",
      "Epoch 3/50\n",
      "\u001b[1m1692/1692\u001b[0m \u001b[32m━━━━━━━━━━━━━━━━━━━━\u001b[0m\u001b[37m\u001b[0m \u001b[1m5s\u001b[0m 3ms/step - accuracy: 0.6900 - loss: 0.9504 - val_accuracy: 0.6890 - val_loss: 0.9444\n",
      "Epoch 4/50\n",
      "\u001b[1m1692/1692\u001b[0m \u001b[32m━━━━━━━━━━━━━━━━━━━━\u001b[0m\u001b[37m\u001b[0m \u001b[1m5s\u001b[0m 3ms/step - accuracy: 0.6889 - loss: 0.9437 - val_accuracy: 0.6890 - val_loss: 0.9396\n",
      "Epoch 5/50\n",
      "\u001b[1m1692/1692\u001b[0m \u001b[32m━━━━━━━━━━━━━━━━━━━━\u001b[0m\u001b[37m\u001b[0m \u001b[1m5s\u001b[0m 3ms/step - accuracy: 0.6857 - loss: 0.9470 - val_accuracy: 0.6891 - val_loss: 0.9369\n",
      "Epoch 6/50\n",
      "\u001b[1m1692/1692\u001b[0m \u001b[32m━━━━━━━━━━━━━━━━━━━━\u001b[0m\u001b[37m\u001b[0m \u001b[1m5s\u001b[0m 3ms/step - accuracy: 0.6900 - loss: 0.9354 - val_accuracy: 0.6892 - val_loss: 0.9345\n",
      "Epoch 7/50\n",
      "\u001b[1m1692/1692\u001b[0m \u001b[32m━━━━━━━━━━━━━━━━━━━━\u001b[0m\u001b[37m\u001b[0m \u001b[1m5s\u001b[0m 3ms/step - accuracy: 0.6876 - loss: 0.9349 - val_accuracy: 0.6900 - val_loss: 0.9370\n",
      "Epoch 8/50\n",
      "\u001b[1m1692/1692\u001b[0m \u001b[32m━━━━━━━━━━━━━━━━━━━━\u001b[0m\u001b[37m\u001b[0m \u001b[1m5s\u001b[0m 3ms/step - accuracy: 0.6895 - loss: 0.9265 - val_accuracy: 0.6895 - val_loss: 0.9348\n",
      "Epoch 9/50\n",
      "\u001b[1m1692/1692\u001b[0m \u001b[32m━━━━━━━━━━━━━━━━━━━━\u001b[0m\u001b[37m\u001b[0m \u001b[1m5s\u001b[0m 3ms/step - accuracy: 0.6888 - loss: 0.9283 - val_accuracy: 0.6895 - val_loss: 0.9336\n",
      "Epoch 10/50\n",
      "\u001b[1m1692/1692\u001b[0m \u001b[32m━━━━━━━━━━━━━━━━━━━━\u001b[0m\u001b[37m\u001b[0m \u001b[1m5s\u001b[0m 3ms/step - accuracy: 0.6898 - loss: 0.9244 - val_accuracy: 0.6896 - val_loss: 0.9340\n",
      "Epoch 11/50\n",
      "\u001b[1m1692/1692\u001b[0m \u001b[32m━━━━━━━━━━━━━━━━━━━━\u001b[0m\u001b[37m\u001b[0m \u001b[1m5s\u001b[0m 3ms/step - accuracy: 0.6924 - loss: 0.9171 - val_accuracy: 0.6912 - val_loss: 0.9356\n",
      "Epoch 12/50\n",
      "\u001b[1m1692/1692\u001b[0m \u001b[32m━━━━━━━━━━━━━━━━━━━━\u001b[0m\u001b[37m\u001b[0m \u001b[1m5s\u001b[0m 3ms/step - accuracy: 0.6942 - loss: 0.9139 - val_accuracy: 0.6895 - val_loss: 0.9414\n",
      "Epoch 13/50\n",
      "\u001b[1m1692/1692\u001b[0m \u001b[32m━━━━━━━━━━━━━━━━━━━━\u001b[0m\u001b[37m\u001b[0m \u001b[1m5s\u001b[0m 3ms/step - accuracy: 0.6931 - loss: 0.9189 - val_accuracy: 0.6912 - val_loss: 0.9430\n",
      "Epoch 14/50\n",
      "\u001b[1m1692/1692\u001b[0m \u001b[32m━━━━━━━━━━━━━━━━━━━━\u001b[0m\u001b[37m\u001b[0m \u001b[1m5s\u001b[0m 3ms/step - accuracy: 0.6915 - loss: 0.9152 - val_accuracy: 0.6897 - val_loss: 0.9354\n",
      "Epoch 15/50\n",
      "\u001b[1m1692/1692\u001b[0m \u001b[32m━━━━━━━━━━━━━━━━━━━━\u001b[0m\u001b[37m\u001b[0m \u001b[1m5s\u001b[0m 3ms/step - accuracy: 0.6962 - loss: 0.9086 - val_accuracy: 0.6898 - val_loss: 0.9407\n",
      "Epoch 16/50\n",
      "\u001b[1m1692/1692\u001b[0m \u001b[32m━━━━━━━━━━━━━━━━━━━━\u001b[0m\u001b[37m\u001b[0m \u001b[1m5s\u001b[0m 3ms/step - accuracy: 0.6909 - loss: 0.9183 - val_accuracy: 0.6907 - val_loss: 0.9424\n",
      "Epoch 17/50\n",
      "\u001b[1m1692/1692\u001b[0m \u001b[32m━━━━━━━━━━━━━━━━━━━━\u001b[0m\u001b[37m\u001b[0m \u001b[1m5s\u001b[0m 3ms/step - accuracy: 0.6959 - loss: 0.9034 - val_accuracy: 0.6898 - val_loss: 0.9415\n",
      "Epoch 18/50\n",
      "\u001b[1m1692/1692\u001b[0m \u001b[32m━━━━━━━━━━━━━━━━━━━━\u001b[0m\u001b[37m\u001b[0m \u001b[1m5s\u001b[0m 3ms/step - accuracy: 0.6944 - loss: 0.9095 - val_accuracy: 0.6898 - val_loss: 0.9362\n",
      "Epoch 19/50\n",
      "\u001b[1m1692/1692\u001b[0m \u001b[32m━━━━━━━━━━━━━━━━━━━━\u001b[0m\u001b[37m\u001b[0m \u001b[1m4s\u001b[0m 3ms/step - accuracy: 0.6915 - loss: 0.9103 - val_accuracy: 0.6897 - val_loss: 0.9447\n",
      "Epoch 20/50\n",
      "\u001b[1m1692/1692\u001b[0m \u001b[32m━━━━━━━━━━━━━━━━━━━━\u001b[0m\u001b[37m\u001b[0m \u001b[1m5s\u001b[0m 3ms/step - accuracy: 0.6963 - loss: 0.9081 - val_accuracy: 0.6895 - val_loss: 0.9467\n",
      "Epoch 21/50\n",
      "\u001b[1m1692/1692\u001b[0m \u001b[32m━━━━━━━━━━━━━━━━━━━━\u001b[0m\u001b[37m\u001b[0m \u001b[1m4s\u001b[0m 2ms/step - accuracy: 0.6953 - loss: 0.9064 - val_accuracy: 0.6893 - val_loss: 0.9422\n",
      "Epoch 22/50\n",
      "\u001b[1m1692/1692\u001b[0m \u001b[32m━━━━━━━━━━━━━━━━━━━━\u001b[0m\u001b[37m\u001b[0m \u001b[1m5s\u001b[0m 3ms/step - accuracy: 0.6934 - loss: 0.9062 - val_accuracy: 0.6889 - val_loss: 0.9421\n",
      "Epoch 23/50\n",
      "\u001b[1m1692/1692\u001b[0m \u001b[32m━━━━━━━━━━━━━━━━━━━━\u001b[0m\u001b[37m\u001b[0m \u001b[1m5s\u001b[0m 3ms/step - accuracy: 0.6991 - loss: 0.8968 - val_accuracy: 0.6886 - val_loss: 0.9416\n",
      "Epoch 24/50\n",
      "\u001b[1m1692/1692\u001b[0m \u001b[32m━━━━━━━━━━━━━━━━━━━━\u001b[0m\u001b[37m\u001b[0m \u001b[1m4s\u001b[0m 3ms/step - accuracy: 0.6978 - loss: 0.9000 - val_accuracy: 0.6901 - val_loss: 0.9471\n",
      "Epoch 25/50\n",
      "\u001b[1m1692/1692\u001b[0m \u001b[32m━━━━━━━━━━━━━━━━━━━━\u001b[0m\u001b[37m\u001b[0m \u001b[1m4s\u001b[0m 3ms/step - accuracy: 0.6955 - loss: 0.9027 - val_accuracy: 0.6901 - val_loss: 0.9403\n",
      "Epoch 26/50\n",
      "\u001b[1m1692/1692\u001b[0m \u001b[32m━━━━━━━━━━━━━━━━━━━━\u001b[0m\u001b[37m\u001b[0m \u001b[1m4s\u001b[0m 3ms/step - accuracy: 0.6960 - loss: 0.8961 - val_accuracy: 0.6892 - val_loss: 0.9507\n",
      "Epoch 27/50\n",
      "\u001b[1m1692/1692\u001b[0m \u001b[32m━━━━━━━━━━━━━━━━━━━━\u001b[0m\u001b[37m\u001b[0m \u001b[1m4s\u001b[0m 3ms/step - accuracy: 0.6964 - loss: 0.8976 - val_accuracy: 0.6882 - val_loss: 0.9521\n",
      "Epoch 28/50\n",
      "\u001b[1m1692/1692\u001b[0m \u001b[32m━━━━━━━━━━━━━━━━━━━━\u001b[0m\u001b[37m\u001b[0m \u001b[1m4s\u001b[0m 3ms/step - accuracy: 0.6937 - loss: 0.9044 - val_accuracy: 0.6898 - val_loss: 0.9571\n",
      "Epoch 29/50\n",
      "\u001b[1m1692/1692\u001b[0m \u001b[32m━━━━━━━━━━━━━━━━━━━━\u001b[0m\u001b[37m\u001b[0m \u001b[1m5s\u001b[0m 3ms/step - accuracy: 0.6917 - loss: 0.9049 - val_accuracy: 0.6890 - val_loss: 0.9562\n",
      "Epoch 30/50\n",
      "\u001b[1m1692/1692\u001b[0m \u001b[32m━━━━━━━━━━━━━━━━━━━━\u001b[0m\u001b[37m\u001b[0m \u001b[1m4s\u001b[0m 3ms/step - accuracy: 0.6945 - loss: 0.9005 - val_accuracy: 0.6890 - val_loss: 0.9589\n",
      "Epoch 31/50\n",
      "\u001b[1m1692/1692\u001b[0m \u001b[32m━━━━━━━━━━━━━━━━━━━━\u001b[0m\u001b[37m\u001b[0m \u001b[1m5s\u001b[0m 3ms/step - accuracy: 0.6954 - loss: 0.8971 - val_accuracy: 0.6902 - val_loss: 0.9622\n",
      "Epoch 32/50\n",
      "\u001b[1m1692/1692\u001b[0m \u001b[32m━━━━━━━━━━━━━━━━━━━━\u001b[0m\u001b[37m\u001b[0m \u001b[1m5s\u001b[0m 3ms/step - accuracy: 0.6967 - loss: 0.8956 - val_accuracy: 0.6893 - val_loss: 0.9515\n",
      "Epoch 33/50\n",
      "\u001b[1m1692/1692\u001b[0m \u001b[32m━━━━━━━━━━━━━━━━━━━━\u001b[0m\u001b[37m\u001b[0m \u001b[1m5s\u001b[0m 3ms/step - accuracy: 0.6977 - loss: 0.8960 - val_accuracy: 0.6894 - val_loss: 0.9529\n",
      "Epoch 34/50\n",
      "\u001b[1m1692/1692\u001b[0m \u001b[32m━━━━━━━━━━━━━━━━━━━━\u001b[0m\u001b[37m\u001b[0m \u001b[1m4s\u001b[0m 3ms/step - accuracy: 0.6968 - loss: 0.8883 - val_accuracy: 0.6896 - val_loss: 0.9449\n",
      "Epoch 35/50\n",
      "\u001b[1m1692/1692\u001b[0m \u001b[32m━━━━━━━━━━━━━━━━━━━━\u001b[0m\u001b[37m\u001b[0m \u001b[1m4s\u001b[0m 3ms/step - accuracy: 0.6961 - loss: 0.8918 - val_accuracy: 0.6901 - val_loss: 0.9529\n",
      "Epoch 36/50\n",
      "\u001b[1m1692/1692\u001b[0m \u001b[32m━━━━━━━━━━━━━━━━━━━━\u001b[0m\u001b[37m\u001b[0m \u001b[1m4s\u001b[0m 2ms/step - accuracy: 0.6974 - loss: 0.8940 - val_accuracy: 0.6894 - val_loss: 0.9536\n",
      "Epoch 37/50\n",
      "\u001b[1m1692/1692\u001b[0m \u001b[32m━━━━━━━━━━━━━━━━━━━━\u001b[0m\u001b[37m\u001b[0m \u001b[1m4s\u001b[0m 3ms/step - accuracy: 0.6974 - loss: 0.8946 - val_accuracy: 0.6901 - val_loss: 0.9475\n",
      "Epoch 38/50\n",
      "\u001b[1m1692/1692\u001b[0m \u001b[32m━━━━━━━━━━━━━━━━━━━━\u001b[0m\u001b[37m\u001b[0m \u001b[1m4s\u001b[0m 2ms/step - accuracy: 0.6957 - loss: 0.8967 - val_accuracy: 0.6890 - val_loss: 0.9537\n",
      "Epoch 39/50\n",
      "\u001b[1m1692/1692\u001b[0m \u001b[32m━━━━━━━━━━━━━━━━━━━━\u001b[0m\u001b[37m\u001b[0m \u001b[1m4s\u001b[0m 3ms/step - accuracy: 0.7007 - loss: 0.8869 - val_accuracy: 0.6893 - val_loss: 0.9600\n",
      "Epoch 40/50\n",
      "\u001b[1m1692/1692\u001b[0m \u001b[32m━━━━━━━━━━━━━━━━━━━━\u001b[0m\u001b[37m\u001b[0m \u001b[1m5s\u001b[0m 3ms/step - accuracy: 0.6990 - loss: 0.8864 - val_accuracy: 0.6896 - val_loss: 0.9669\n",
      "Epoch 41/50\n",
      "\u001b[1m1692/1692\u001b[0m \u001b[32m━━━━━━━━━━━━━━━━━━━━\u001b[0m\u001b[37m\u001b[0m \u001b[1m4s\u001b[0m 3ms/step - accuracy: 0.6980 - loss: 0.8895 - val_accuracy: 0.6907 - val_loss: 0.9584\n",
      "Epoch 42/50\n",
      "\u001b[1m1692/1692\u001b[0m \u001b[32m━━━━━━━━━━━━━━━━━━━━\u001b[0m\u001b[37m\u001b[0m \u001b[1m4s\u001b[0m 3ms/step - accuracy: 0.6981 - loss: 0.8921 - val_accuracy: 0.6895 - val_loss: 0.9543\n",
      "Epoch 43/50\n",
      "\u001b[1m1692/1692\u001b[0m \u001b[32m━━━━━━━━━━━━━━━━━━━━\u001b[0m\u001b[37m\u001b[0m \u001b[1m4s\u001b[0m 3ms/step - accuracy: 0.6992 - loss: 0.8842 - val_accuracy: 0.6893 - val_loss: 0.9489\n",
      "Epoch 44/50\n",
      "\u001b[1m1692/1692\u001b[0m \u001b[32m━━━━━━━━━━━━━━━━━━━━\u001b[0m\u001b[37m\u001b[0m \u001b[1m5s\u001b[0m 3ms/step - accuracy: 0.6973 - loss: 0.8910 - val_accuracy: 0.6893 - val_loss: 0.9499\n",
      "Epoch 45/50\n",
      "\u001b[1m1692/1692\u001b[0m \u001b[32m━━━━━━━━━━━━━━━━━━━━\u001b[0m\u001b[37m\u001b[0m \u001b[1m4s\u001b[0m 3ms/step - accuracy: 0.6975 - loss: 0.8870 - val_accuracy: 0.6890 - val_loss: 0.9654\n",
      "Epoch 46/50\n",
      "\u001b[1m1692/1692\u001b[0m \u001b[32m━━━━━━━━━━━━━━━━━━━━\u001b[0m\u001b[37m\u001b[0m \u001b[1m4s\u001b[0m 2ms/step - accuracy: 0.6949 - loss: 0.8927 - val_accuracy: 0.6898 - val_loss: 0.9691\n",
      "Epoch 47/50\n",
      "\u001b[1m1692/1692\u001b[0m \u001b[32m━━━━━━━━━━━━━━━━━━━━\u001b[0m\u001b[37m\u001b[0m \u001b[1m4s\u001b[0m 3ms/step - accuracy: 0.6991 - loss: 0.8840 - val_accuracy: 0.6873 - val_loss: 0.9591\n",
      "Epoch 48/50\n",
      "\u001b[1m1692/1692\u001b[0m \u001b[32m━━━━━━━━━━━━━━━━━━━━\u001b[0m\u001b[37m\u001b[0m \u001b[1m4s\u001b[0m 3ms/step - accuracy: 0.6975 - loss: 0.8857 - val_accuracy: 0.6886 - val_loss: 0.9755\n",
      "Epoch 49/50\n",
      "\u001b[1m1692/1692\u001b[0m \u001b[32m━━━━━━━━━━━━━━━━━━━━\u001b[0m\u001b[37m\u001b[0m \u001b[1m4s\u001b[0m 2ms/step - accuracy: 0.6986 - loss: 0.8783 - val_accuracy: 0.6881 - val_loss: 0.9639\n",
      "Epoch 50/50\n",
      "\u001b[1m1692/1692\u001b[0m \u001b[32m━━━━━━━━━━━━━━━━━━━━\u001b[0m\u001b[37m\u001b[0m \u001b[1m5s\u001b[0m 3ms/step - accuracy: 0.7002 - loss: 0.8812 - val_accuracy: 0.6890 - val_loss: 0.9652\n",
      "Test Loss: 0.9652349948883057, Test Accuracy: 0.6889545917510986\n"
     ]
    }
   ],
   "source": [
    "# Define ANN model architecture\n",
    "\n",
    "model = Sequential([\n",
    "    Dense(128, input_dim=X_train.shape[1], activation='relu'),\n",
    "    Dropout(0.3),       # Dropout layer with 30% rate \n",
    "    Dense(64, activation='relu'),\n",
    "    Dropout(0.3),\n",
    "    Dense(32, activation='relu'),\n",
    "    Dropout(0.3),\n",
    "    Dense(5, activation='softmax')  # 5 output classes\n",
    "])\n",
    "\n",
    "# Compile the model\n",
    "model.compile(optimizer='adam', loss='categorical_crossentropy', metrics=['accuracy'])\n",
    "\n",
    "# Train the model\n",
    "history = model.fit(\n",
    "    X_train, y_train_cat,\n",
    "    validation_data=(X_test, y_test_cat),\n",
    "    epochs=50,\n",
    "    batch_size=32,\n",
    "    verbose=1\n",
    ")\n",
    "\n",
    "# Evaluate the model\n",
    "loss, accuracy = model.evaluate(X_test, y_test_cat, verbose=0)\n",
    "print(f\"Test Loss: {loss}, Test Accuracy: {accuracy}\")"
   ]
  },
  {
   "cell_type": "markdown",
   "metadata": {},
   "source": [
    "### Key Observations\n",
    "\n",
    "* Training Accuracy:\n",
    "\n",
    "Your model achieves ~70% accuracy on the training data.\n",
    "This suggests that the model has learned patterns from the training dataset to a reasonable extent.\n",
    "\n",
    "* Validation Accuracy:\n",
    "\n",
    "The validation accuracy is ~69%, which is lower than the training accuracy.\n",
    "This could indicate some level of overfitting, where the model performs well on training data but struggles to generalize to unseen data.\n",
    "\n",
    "* Loss Values:\n",
    "\n",
    "The training loss is 0.89, while the validation loss is higher at 0.96.\n",
    "A significant gap between training and validation loss further supports the possibility of overfitting.\n",
    "\n",
    "* Test Accuracy:\n",
    "\n",
    "The test accuracy is ~69.29%, consistent with the validation accuracy. This indicates that your model's generalization performance is being correctly captured during training."
   ]
  },
  {
   "cell_type": "code",
   "execution_count": 51,
   "metadata": {},
   "outputs": [
    {
     "name": "stderr",
     "output_type": "stream",
     "text": [
      "c:\\Users\\Ishwar\\custom_support\\venv\\Lib\\site-packages\\sklearn\\feature_selection\\_univariate_selection.py:111: UserWarning: Features [1496 1497 1499] are constant.\n",
      "  warnings.warn(\"Features %s are constant.\" % constant_features_idx, UserWarning)\n",
      "c:\\Users\\Ishwar\\custom_support\\venv\\Lib\\site-packages\\sklearn\\feature_selection\\_univariate_selection.py:112: RuntimeWarning: invalid value encountered in divide\n",
      "  f = msb / msw\n"
     ]
    }
   ],
   "source": [
    "# Consider additional preprocessing techniques\n",
    "from sklearn.preprocessing import StandardScaler\n",
    "from sklearn.feature_selection import SelectKBest, f_classif\n",
    "\n",
    "# Feature scaling with StandardScaler (might work better than MinMaxScaler)\n",
    "scaler = StandardScaler()\n",
    "X_scaled = scaler.fit_transform(X)\n",
    "\n",
    "# Feature selection to reduce noise\n",
    "selector = SelectKBest(f_classif, k=50)  # Select top 50 features\n",
    "X_selected = selector.fit_transform(X_scaled, y)"
   ]
  },
  {
   "cell_type": "code",
   "execution_count": 52,
   "metadata": {},
   "outputs": [
    {
     "name": "stdout",
     "output_type": "stream",
     "text": [
      "Epoch 1/100\n",
      "\u001b[1m677/677\u001b[0m \u001b[32m━━━━━━━━━━━━━━━━━━━━\u001b[0m\u001b[37m\u001b[0m \u001b[1m2s\u001b[0m 3ms/step - accuracy: 0.6991 - loss: 0.8787 - val_accuracy: 0.6960 - val_loss: 0.8743 - learning_rate: 0.0010\n",
      "Epoch 2/100\n",
      "\u001b[1m677/677\u001b[0m \u001b[32m━━━━━━━━━━━━━━━━━━━━\u001b[0m\u001b[37m\u001b[0m \u001b[1m2s\u001b[0m 3ms/step - accuracy: 0.7047 - loss: 0.8651 - val_accuracy: 0.6948 - val_loss: 0.8833 - learning_rate: 0.0010\n",
      "Epoch 3/100\n",
      "\u001b[1m677/677\u001b[0m \u001b[32m━━━━━━━━━━━━━━━━━━━━\u001b[0m\u001b[37m\u001b[0m \u001b[1m2s\u001b[0m 3ms/step - accuracy: 0.7007 - loss: 0.8731 - val_accuracy: 0.6994 - val_loss: 0.8725 - learning_rate: 0.0010\n",
      "Epoch 4/100\n",
      "\u001b[1m677/677\u001b[0m \u001b[32m━━━━━━━━━━━━━━━━━━━━\u001b[0m\u001b[37m\u001b[0m \u001b[1m2s\u001b[0m 3ms/step - accuracy: 0.7045 - loss: 0.8650 - val_accuracy: 0.6971 - val_loss: 0.8713 - learning_rate: 0.0010\n",
      "Epoch 5/100\n",
      "\u001b[1m677/677\u001b[0m \u001b[32m━━━━━━━━━━━━━━━━━━━━\u001b[0m\u001b[37m\u001b[0m \u001b[1m2s\u001b[0m 3ms/step - accuracy: 0.6997 - loss: 0.8692 - val_accuracy: 0.6962 - val_loss: 0.8764 - learning_rate: 0.0010\n",
      "Epoch 6/100\n",
      "\u001b[1m677/677\u001b[0m \u001b[32m━━━━━━━━━━━━━━━━━━━━\u001b[0m\u001b[37m\u001b[0m \u001b[1m2s\u001b[0m 3ms/step - accuracy: 0.6989 - loss: 0.8704 - val_accuracy: 0.6975 - val_loss: 0.8845 - learning_rate: 0.0010\n",
      "Epoch 7/100\n",
      "\u001b[1m677/677\u001b[0m \u001b[32m━━━━━━━━━━━━━━━━━━━━\u001b[0m\u001b[37m\u001b[0m \u001b[1m2s\u001b[0m 3ms/step - accuracy: 0.7005 - loss: 0.8733 - val_accuracy: 0.6998 - val_loss: 0.8757 - learning_rate: 0.0010\n",
      "Epoch 8/100\n",
      "\u001b[1m677/677\u001b[0m \u001b[32m━━━━━━━━━━━━━━━━━━━━\u001b[0m\u001b[37m\u001b[0m \u001b[1m2s\u001b[0m 3ms/step - accuracy: 0.6979 - loss: 0.8748 - val_accuracy: 0.6950 - val_loss: 0.8768 - learning_rate: 0.0010\n",
      "Epoch 9/100\n",
      "\u001b[1m677/677\u001b[0m \u001b[32m━━━━━━━━━━━━━━━━━━━━\u001b[0m\u001b[37m\u001b[0m \u001b[1m2s\u001b[0m 3ms/step - accuracy: 0.7046 - loss: 0.8620 - val_accuracy: 0.6962 - val_loss: 0.8795 - learning_rate: 0.0010\n",
      "Epoch 10/100\n",
      "\u001b[1m677/677\u001b[0m \u001b[32m━━━━━━━━━━━━━━━━━━━━\u001b[0m\u001b[37m\u001b[0m \u001b[1m2s\u001b[0m 3ms/step - accuracy: 0.7009 - loss: 0.8654 - val_accuracy: 0.6981 - val_loss: 0.8773 - learning_rate: 2.0000e-04\n",
      "Epoch 11/100\n",
      "\u001b[1m677/677\u001b[0m \u001b[32m━━━━━━━━━━━━━━━━━━━━\u001b[0m\u001b[37m\u001b[0m \u001b[1m2s\u001b[0m 3ms/step - accuracy: 0.7073 - loss: 0.8484 - val_accuracy: 0.6990 - val_loss: 0.8767 - learning_rate: 2.0000e-04\n",
      "Epoch 12/100\n",
      "\u001b[1m677/677\u001b[0m \u001b[32m━━━━━━━━━━━━━━━━━━━━\u001b[0m\u001b[37m\u001b[0m \u001b[1m2s\u001b[0m 3ms/step - accuracy: 0.7068 - loss: 0.8501 - val_accuracy: 0.6993 - val_loss: 0.8759 - learning_rate: 2.0000e-04\n",
      "Epoch 13/100\n",
      "\u001b[1m677/677\u001b[0m \u001b[32m━━━━━━━━━━━━━━━━━━━━\u001b[0m\u001b[37m\u001b[0m \u001b[1m2s\u001b[0m 3ms/step - accuracy: 0.7062 - loss: 0.8496 - val_accuracy: 0.6987 - val_loss: 0.8784 - learning_rate: 2.0000e-04\n",
      "Epoch 14/100\n",
      "\u001b[1m677/677\u001b[0m \u001b[32m━━━━━━━━━━━━━━━━━━━━\u001b[0m\u001b[37m\u001b[0m \u001b[1m2s\u001b[0m 3ms/step - accuracy: 0.7053 - loss: 0.8498 - val_accuracy: 0.6993 - val_loss: 0.8770 - learning_rate: 2.0000e-04\n"
     ]
    }
   ],
   "source": [
    "from tensorflow.keras.callbacks import EarlyStopping, ReduceLROnPlateau\n",
    "\n",
    "# Early stopping to prevent overfitting\n",
    "early_stopping = EarlyStopping(\n",
    "    monitor='val_loss', \n",
    "    patience=10, \n",
    "    restore_best_weights=True\n",
    ")\n",
    "\n",
    "# Learning rate reduction\n",
    "reduce_lr = ReduceLROnPlateau(\n",
    "    monitor='val_loss', \n",
    "    factor=0.2, \n",
    "    patience=5, \n",
    "    min_lr=0.00001\n",
    ")\n",
    "\n",
    "# Improved model training\n",
    "history = model.fit(\n",
    "    X_train, y_train_cat,\n",
    "    validation_split=0.2,  # Use validation split instead of separate test set\n",
    "    epochs=100,\n",
    "    batch_size=64,\n",
    "    callbacks=[early_stopping, reduce_lr],\n",
    "    verbose=1\n",
    ")"
   ]
  },
  {
   "cell_type": "markdown",
   "metadata": {},
   "source": [
    "### Observations "
   ]
  },
  {
   "cell_type": "markdown",
   "metadata": {},
   "source": [
    "* Implemented EarlyStopping to halt training when validation loss stops improving for 10 consecutive epochs, helps in preventing unnecessary overfitting.\n",
    "\n",
    "* Added ReduceLROnPlateau to dynamically adjust the learning rate when validation loss plateaus.\n",
    "\n",
    "* The small gap between training (70.53%) and validation accuracy (69.93%) suggests the model generalizes well and isn't overfitting.\n",
    "\n",
    "* Neural networks require substantial data to generalize well, and the current dataset size may be a limiting factor.\n",
    "\n",
    "* To address this, techniques such as data augmentation, synthetic data generation, or transfer learning from pre-trained models could be explored."
   ]
  },
  {
   "cell_type": "markdown",
   "metadata": {},
   "source": [
    "### Save model and scaler file"
   ]
  },
  {
   "cell_type": "code",
   "execution_count": 53,
   "metadata": {},
   "outputs": [
    {
     "name": "stdout",
     "output_type": "stream",
     "text": [
      "Current working directory: c:\\Users\\Ishwar\\custom_support\\notebook\n"
     ]
    }
   ],
   "source": [
    "# Save the model - make sure this runs successfully\n",
    "model.save(\"csat_model.keras\")\n",
    "\n",
    "# Save the scaler - make sure this runs successfully\n",
    "import joblib\n",
    "joblib.dump(scaler, \"scaler.pkl\")\n",
    "\n",
    "# Print the current working directory to verify where files are being saved\n",
    "import os\n",
    "print(\"Current working directory:\", os.getcwd())"
   ]
  },
  {
   "cell_type": "code",
   "execution_count": 54,
   "metadata": {},
   "outputs": [
    {
     "name": "stdout",
     "output_type": "stream",
     "text": [
      "Model file exists: True\n",
      "Scaler file exists: True\n"
     ]
    }
   ],
   "source": [
    "# Check if files exist\n",
    "import os\n",
    "\n",
    "model_path = \"csat_model.keras\"\n",
    "scaler_path = \"scaler.pkl\"\n",
    "\n",
    "print(f\"Model file exists: {os.path.exists(model_path)}\")\n",
    "print(f\"Scaler file exists: {os.path.exists(scaler_path)}\")"
   ]
  },
  {
   "cell_type": "code",
   "execution_count": null,
   "metadata": {},
   "outputs": [],
   "source": []
  }
 ],
 "metadata": {
  "kernelspec": {
   "display_name": "venv",
   "language": "python",
   "name": "python3"
  },
  "language_info": {
   "codemirror_mode": {
    "name": "ipython",
    "version": 3
   },
   "file_extension": ".py",
   "mimetype": "text/x-python",
   "name": "python",
   "nbconvert_exporter": "python",
   "pygments_lexer": "ipython3",
   "version": "3.11.11"
  }
 },
 "nbformat": 4,
 "nbformat_minor": 2
}
